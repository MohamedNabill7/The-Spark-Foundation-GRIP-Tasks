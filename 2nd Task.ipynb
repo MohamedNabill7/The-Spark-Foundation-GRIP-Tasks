{
 "cells": [
  {
   "cell_type": "markdown",
   "id": "36cbf05d",
   "metadata": {},
   "source": [
    "# 2nd Task\n",
    "## Stock Market Predicton using Numerical and Textual Analysis"
   ]
  },
  {
   "cell_type": "markdown",
   "id": "62be4ab1",
   "metadata": {},
   "source": [
    "## Define Problem\n",
    "Stock Market Predictions based on Stock data of Dow Jones and the news headlines for the past 20 years. Stock prices of companies usually has a high impact depending on the things happening around the country. The idea is to use a company’s stock prices and the corresponding news headlines for 15 years and build a model which predicts the stock prices."
   ]
  },
  {
   "cell_type": "markdown",
   "id": "37ff5029",
   "metadata": {},
   "source": [
    "## Numerical Data Analysis"
   ]
  },
  {
   "cell_type": "code",
   "execution_count": 1,
   "id": "bab5e4fe",
   "metadata": {},
   "outputs": [],
   "source": [
    "import pandas as pd\n",
    "import numpy as np\n",
    "import matplotlib.pyplot as plt \n",
    "import seaborn as sns\n",
    "import warnings\n",
    "warnings.filterwarnings(\"ignore\")\n",
    "from statsmodels.tsa.arima_model import ARIMA\n",
    "from pmdarima.arima import auto_arima\n",
    "from sklearn.metrics import mean_squared_error , mean_absolute_error \n",
    "from sklearn.preprocessing import MinMaxScaler"
   ]
  },
  {
   "cell_type": "code",
   "execution_count": 2,
   "id": "c9d670ea",
   "metadata": {},
   "outputs": [
    {
     "data": {
      "text/html": [
       "<div>\n",
       "<style scoped>\n",
       "    .dataframe tbody tr th:only-of-type {\n",
       "        vertical-align: middle;\n",
       "    }\n",
       "\n",
       "    .dataframe tbody tr th {\n",
       "        vertical-align: top;\n",
       "    }\n",
       "\n",
       "    .dataframe thead th {\n",
       "        text-align: right;\n",
       "    }\n",
       "</style>\n",
       "<table border=\"1\" class=\"dataframe\">\n",
       "  <thead>\n",
       "    <tr style=\"text-align: right;\">\n",
       "      <th></th>\n",
       "      <th>Date</th>\n",
       "      <th>Open</th>\n",
       "      <th>High</th>\n",
       "      <th>Low</th>\n",
       "      <th>Close</th>\n",
       "      <th>Adj Close</th>\n",
       "      <th>Volume</th>\n",
       "    </tr>\n",
       "  </thead>\n",
       "  <tbody>\n",
       "    <tr>\n",
       "      <th>0</th>\n",
       "      <td>2005-01-03</td>\n",
       "      <td>65.095001</td>\n",
       "      <td>65.209999</td>\n",
       "      <td>63.570000</td>\n",
       "      <td>63.910000</td>\n",
       "      <td>50.853107</td>\n",
       "      <td>16062600</td>\n",
       "    </tr>\n",
       "    <tr>\n",
       "      <th>1</th>\n",
       "      <td>2005-01-04</td>\n",
       "      <td>64.035004</td>\n",
       "      <td>64.084999</td>\n",
       "      <td>62.430000</td>\n",
       "      <td>62.540001</td>\n",
       "      <td>49.762993</td>\n",
       "      <td>27450000</td>\n",
       "    </tr>\n",
       "    <tr>\n",
       "      <th>2</th>\n",
       "      <td>2005-01-05</td>\n",
       "      <td>62.470001</td>\n",
       "      <td>62.639999</td>\n",
       "      <td>61.290001</td>\n",
       "      <td>61.290001</td>\n",
       "      <td>48.768360</td>\n",
       "      <td>29884200</td>\n",
       "    </tr>\n",
       "    <tr>\n",
       "      <th>3</th>\n",
       "      <td>2005-01-06</td>\n",
       "      <td>61.669998</td>\n",
       "      <td>62.200001</td>\n",
       "      <td>61.224998</td>\n",
       "      <td>61.615002</td>\n",
       "      <td>49.026966</td>\n",
       "      <td>23061200</td>\n",
       "    </tr>\n",
       "    <tr>\n",
       "      <th>4</th>\n",
       "      <td>2005-01-07</td>\n",
       "      <td>61.755001</td>\n",
       "      <td>61.950001</td>\n",
       "      <td>60.895000</td>\n",
       "      <td>60.930000</td>\n",
       "      <td>48.481922</td>\n",
       "      <td>20906200</td>\n",
       "    </tr>\n",
       "  </tbody>\n",
       "</table>\n",
       "</div>"
      ],
      "text/plain": [
       "         Date       Open       High        Low      Close  Adj Close    Volume\n",
       "0  2005-01-03  65.095001  65.209999  63.570000  63.910000  50.853107  16062600\n",
       "1  2005-01-04  64.035004  64.084999  62.430000  62.540001  49.762993  27450000\n",
       "2  2005-01-05  62.470001  62.639999  61.290001  61.290001  48.768360  29884200\n",
       "3  2005-01-06  61.669998  62.200001  61.224998  61.615002  49.026966  23061200\n",
       "4  2005-01-07  61.755001  61.950001  60.895000  60.930000  48.481922  20906200"
      ]
     },
     "execution_count": 2,
     "metadata": {},
     "output_type": "execute_result"
    }
   ],
   "source": [
    "# We will analyze the last 15 years stock price data of IWM\n",
    "df_num = pd.read_csv('IWM.csv')\n",
    "df_num.head()"
   ]
  },
  {
   "cell_type": "code",
   "execution_count": 3,
   "id": "d2005e84",
   "metadata": {},
   "outputs": [
    {
     "data": {
      "text/html": [
       "<div>\n",
       "<style scoped>\n",
       "    .dataframe tbody tr th:only-of-type {\n",
       "        vertical-align: middle;\n",
       "    }\n",
       "\n",
       "    .dataframe tbody tr th {\n",
       "        vertical-align: top;\n",
       "    }\n",
       "\n",
       "    .dataframe thead th {\n",
       "        text-align: right;\n",
       "    }\n",
       "</style>\n",
       "<table border=\"1\" class=\"dataframe\">\n",
       "  <thead>\n",
       "    <tr style=\"text-align: right;\">\n",
       "      <th></th>\n",
       "      <th>Date</th>\n",
       "      <th>Open</th>\n",
       "      <th>High</th>\n",
       "      <th>Low</th>\n",
       "      <th>Close</th>\n",
       "      <th>Adj Close</th>\n",
       "      <th>Volume</th>\n",
       "    </tr>\n",
       "  </thead>\n",
       "  <tbody>\n",
       "    <tr>\n",
       "      <th>4022</th>\n",
       "      <td>2020-12-23</td>\n",
       "      <td>198.570007</td>\n",
       "      <td>199.649994</td>\n",
       "      <td>197.899994</td>\n",
       "      <td>199.139999</td>\n",
       "      <td>197.269363</td>\n",
       "      <td>18392000</td>\n",
       "    </tr>\n",
       "    <tr>\n",
       "      <th>4023</th>\n",
       "      <td>2020-12-24</td>\n",
       "      <td>199.929993</td>\n",
       "      <td>199.940002</td>\n",
       "      <td>198.059998</td>\n",
       "      <td>199.009995</td>\n",
       "      <td>197.140594</td>\n",
       "      <td>8904900</td>\n",
       "    </tr>\n",
       "    <tr>\n",
       "      <th>4024</th>\n",
       "      <td>2020-12-28</td>\n",
       "      <td>201.160004</td>\n",
       "      <td>201.179993</td>\n",
       "      <td>198.130005</td>\n",
       "      <td>198.270004</td>\n",
       "      <td>196.407562</td>\n",
       "      <td>27168400</td>\n",
       "    </tr>\n",
       "    <tr>\n",
       "      <th>4025</th>\n",
       "      <td>2020-12-29</td>\n",
       "      <td>198.639999</td>\n",
       "      <td>199.000000</td>\n",
       "      <td>193.440002</td>\n",
       "      <td>194.429993</td>\n",
       "      <td>192.603607</td>\n",
       "      <td>33901300</td>\n",
       "    </tr>\n",
       "    <tr>\n",
       "      <th>4026</th>\n",
       "      <td>2020-12-30</td>\n",
       "      <td>195.050003</td>\n",
       "      <td>197.479996</td>\n",
       "      <td>195.029999</td>\n",
       "      <td>196.410004</td>\n",
       "      <td>194.565018</td>\n",
       "      <td>20595700</td>\n",
       "    </tr>\n",
       "  </tbody>\n",
       "</table>\n",
       "</div>"
      ],
      "text/plain": [
       "            Date        Open        High         Low       Close   Adj Close  \\\n",
       "4022  2020-12-23  198.570007  199.649994  197.899994  199.139999  197.269363   \n",
       "4023  2020-12-24  199.929993  199.940002  198.059998  199.009995  197.140594   \n",
       "4024  2020-12-28  201.160004  201.179993  198.130005  198.270004  196.407562   \n",
       "4025  2020-12-29  198.639999  199.000000  193.440002  194.429993  192.603607   \n",
       "4026  2020-12-30  195.050003  197.479996  195.029999  196.410004  194.565018   \n",
       "\n",
       "        Volume  \n",
       "4022  18392000  \n",
       "4023   8904900  \n",
       "4024  27168400  \n",
       "4025  33901300  \n",
       "4026  20595700  "
      ]
     },
     "execution_count": 3,
     "metadata": {},
     "output_type": "execute_result"
    }
   ],
   "source": [
    "df_num.tail()"
   ]
  },
  {
   "cell_type": "code",
   "execution_count": 4,
   "id": "e0eb283e",
   "metadata": {},
   "outputs": [
    {
     "name": "stdout",
     "output_type": "stream",
     "text": [
      "<class 'pandas.core.frame.DataFrame'>\n",
      "RangeIndex: 4027 entries, 0 to 4026\n",
      "Data columns (total 7 columns):\n",
      " #   Column     Non-Null Count  Dtype  \n",
      "---  ------     --------------  -----  \n",
      " 0   Date       4027 non-null   object \n",
      " 1   Open       4027 non-null   float64\n",
      " 2   High       4027 non-null   float64\n",
      " 3   Low        4027 non-null   float64\n",
      " 4   Close      4027 non-null   float64\n",
      " 5   Adj Close  4027 non-null   float64\n",
      " 6   Volume     4027 non-null   int64  \n",
      "dtypes: float64(5), int64(1), object(1)\n",
      "memory usage: 220.4+ KB\n"
     ]
    }
   ],
   "source": [
    "df_num.info()"
   ]
  },
  {
   "cell_type": "code",
   "execution_count": 5,
   "id": "2172c1ba",
   "metadata": {},
   "outputs": [],
   "source": [
    "df_num['Date'] = pd.to_datetime(df_num['Date'])"
   ]
  },
  {
   "cell_type": "code",
   "execution_count": 6,
   "id": "114b08ea",
   "metadata": {},
   "outputs": [],
   "source": [
    "df_num.set_index('Date',inplace=True,drop=False)"
   ]
  },
  {
   "cell_type": "code",
   "execution_count": 7,
   "id": "0df5708d",
   "metadata": {},
   "outputs": [
    {
     "data": {
      "text/html": [
       "<div>\n",
       "<style scoped>\n",
       "    .dataframe tbody tr th:only-of-type {\n",
       "        vertical-align: middle;\n",
       "    }\n",
       "\n",
       "    .dataframe tbody tr th {\n",
       "        vertical-align: top;\n",
       "    }\n",
       "\n",
       "    .dataframe thead th {\n",
       "        text-align: right;\n",
       "    }\n",
       "</style>\n",
       "<table border=\"1\" class=\"dataframe\">\n",
       "  <thead>\n",
       "    <tr style=\"text-align: right;\">\n",
       "      <th></th>\n",
       "      <th>Date</th>\n",
       "      <th>Open</th>\n",
       "      <th>High</th>\n",
       "      <th>Low</th>\n",
       "      <th>Close</th>\n",
       "      <th>Adj Close</th>\n",
       "      <th>Volume</th>\n",
       "    </tr>\n",
       "    <tr>\n",
       "      <th>Date</th>\n",
       "      <th></th>\n",
       "      <th></th>\n",
       "      <th></th>\n",
       "      <th></th>\n",
       "      <th></th>\n",
       "      <th></th>\n",
       "      <th></th>\n",
       "    </tr>\n",
       "  </thead>\n",
       "  <tbody>\n",
       "    <tr>\n",
       "      <th>2005-01-03</th>\n",
       "      <td>2005-01-03</td>\n",
       "      <td>65.095001</td>\n",
       "      <td>65.209999</td>\n",
       "      <td>63.570000</td>\n",
       "      <td>63.910000</td>\n",
       "      <td>50.853107</td>\n",
       "      <td>16062600</td>\n",
       "    </tr>\n",
       "    <tr>\n",
       "      <th>2005-01-04</th>\n",
       "      <td>2005-01-04</td>\n",
       "      <td>64.035004</td>\n",
       "      <td>64.084999</td>\n",
       "      <td>62.430000</td>\n",
       "      <td>62.540001</td>\n",
       "      <td>49.762993</td>\n",
       "      <td>27450000</td>\n",
       "    </tr>\n",
       "    <tr>\n",
       "      <th>2005-01-05</th>\n",
       "      <td>2005-01-05</td>\n",
       "      <td>62.470001</td>\n",
       "      <td>62.639999</td>\n",
       "      <td>61.290001</td>\n",
       "      <td>61.290001</td>\n",
       "      <td>48.768360</td>\n",
       "      <td>29884200</td>\n",
       "    </tr>\n",
       "    <tr>\n",
       "      <th>2005-01-06</th>\n",
       "      <td>2005-01-06</td>\n",
       "      <td>61.669998</td>\n",
       "      <td>62.200001</td>\n",
       "      <td>61.224998</td>\n",
       "      <td>61.615002</td>\n",
       "      <td>49.026966</td>\n",
       "      <td>23061200</td>\n",
       "    </tr>\n",
       "    <tr>\n",
       "      <th>2005-01-07</th>\n",
       "      <td>2005-01-07</td>\n",
       "      <td>61.755001</td>\n",
       "      <td>61.950001</td>\n",
       "      <td>60.895000</td>\n",
       "      <td>60.930000</td>\n",
       "      <td>48.481922</td>\n",
       "      <td>20906200</td>\n",
       "    </tr>\n",
       "  </tbody>\n",
       "</table>\n",
       "</div>"
      ],
      "text/plain": [
       "                 Date       Open       High        Low      Close  Adj Close  \\\n",
       "Date                                                                           \n",
       "2005-01-03 2005-01-03  65.095001  65.209999  63.570000  63.910000  50.853107   \n",
       "2005-01-04 2005-01-04  64.035004  64.084999  62.430000  62.540001  49.762993   \n",
       "2005-01-05 2005-01-05  62.470001  62.639999  61.290001  61.290001  48.768360   \n",
       "2005-01-06 2005-01-06  61.669998  62.200001  61.224998  61.615002  49.026966   \n",
       "2005-01-07 2005-01-07  61.755001  61.950001  60.895000  60.930000  48.481922   \n",
       "\n",
       "              Volume  \n",
       "Date                  \n",
       "2005-01-03  16062600  \n",
       "2005-01-04  27450000  \n",
       "2005-01-05  29884200  \n",
       "2005-01-06  23061200  \n",
       "2005-01-07  20906200  "
      ]
     },
     "execution_count": 7,
     "metadata": {},
     "output_type": "execute_result"
    }
   ],
   "source": [
    "df_num.dropna(inplace=True)\n",
    "df_num.head()"
   ]
  },
  {
   "cell_type": "code",
   "execution_count": 8,
   "id": "c1512abc",
   "metadata": {},
   "outputs": [
    {
     "data": {
      "text/plain": [
       "(4027, 7)"
      ]
     },
     "execution_count": 8,
     "metadata": {},
     "output_type": "execute_result"
    }
   ],
   "source": [
    "df_num.shape"
   ]
  },
  {
   "cell_type": "code",
   "execution_count": 9,
   "id": "0272d42c",
   "metadata": {},
   "outputs": [
    {
     "data": {
      "text/html": [
       "<div>\n",
       "<style scoped>\n",
       "    .dataframe tbody tr th:only-of-type {\n",
       "        vertical-align: middle;\n",
       "    }\n",
       "\n",
       "    .dataframe tbody tr th {\n",
       "        vertical-align: top;\n",
       "    }\n",
       "\n",
       "    .dataframe thead th {\n",
       "        text-align: right;\n",
       "    }\n",
       "</style>\n",
       "<table border=\"1\" class=\"dataframe\">\n",
       "  <thead>\n",
       "    <tr style=\"text-align: right;\">\n",
       "      <th></th>\n",
       "      <th>Open</th>\n",
       "      <th>High</th>\n",
       "      <th>Low</th>\n",
       "      <th>Close</th>\n",
       "      <th>Adj Close</th>\n",
       "      <th>Volume</th>\n",
       "    </tr>\n",
       "  </thead>\n",
       "  <tbody>\n",
       "    <tr>\n",
       "      <th>count</th>\n",
       "      <td>4027.000000</td>\n",
       "      <td>4027.000000</td>\n",
       "      <td>4027.000000</td>\n",
       "      <td>4027.000000</td>\n",
       "      <td>4027.000000</td>\n",
       "      <td>4.027000e+03</td>\n",
       "    </tr>\n",
       "    <tr>\n",
       "      <th>mean</th>\n",
       "      <td>100.937661</td>\n",
       "      <td>101.696523</td>\n",
       "      <td>100.065253</td>\n",
       "      <td>100.926040</td>\n",
       "      <td>91.350681</td>\n",
       "      <td>4.548999e+07</td>\n",
       "    </tr>\n",
       "    <tr>\n",
       "      <th>std</th>\n",
       "      <td>35.783976</td>\n",
       "      <td>35.906101</td>\n",
       "      <td>35.629777</td>\n",
       "      <td>35.773671</td>\n",
       "      <td>37.886905</td>\n",
       "      <td>3.051934e+07</td>\n",
       "    </tr>\n",
       "    <tr>\n",
       "      <th>min</th>\n",
       "      <td>34.730000</td>\n",
       "      <td>35.639999</td>\n",
       "      <td>34.259998</td>\n",
       "      <td>34.389999</td>\n",
       "      <td>28.755594</td>\n",
       "      <td>1.200000e+03</td>\n",
       "    </tr>\n",
       "    <tr>\n",
       "      <th>25%</th>\n",
       "      <td>71.250000</td>\n",
       "      <td>71.944999</td>\n",
       "      <td>70.435001</td>\n",
       "      <td>71.250000</td>\n",
       "      <td>59.072220</td>\n",
       "      <td>2.449420e+07</td>\n",
       "    </tr>\n",
       "    <tr>\n",
       "      <th>50%</th>\n",
       "      <td>86.779999</td>\n",
       "      <td>86.959999</td>\n",
       "      <td>86.040001</td>\n",
       "      <td>86.599998</td>\n",
       "      <td>76.912872</td>\n",
       "      <td>3.721970e+07</td>\n",
       "    </tr>\n",
       "    <tr>\n",
       "      <th>75%</th>\n",
       "      <td>127.270001</td>\n",
       "      <td>128.290001</td>\n",
       "      <td>125.970001</td>\n",
       "      <td>126.810001</td>\n",
       "      <td>120.786014</td>\n",
       "      <td>5.791915e+07</td>\n",
       "    </tr>\n",
       "    <tr>\n",
       "      <th>max</th>\n",
       "      <td>201.160004</td>\n",
       "      <td>201.179993</td>\n",
       "      <td>198.130005</td>\n",
       "      <td>199.139999</td>\n",
       "      <td>197.269363</td>\n",
       "      <td>3.551170e+08</td>\n",
       "    </tr>\n",
       "  </tbody>\n",
       "</table>\n",
       "</div>"
      ],
      "text/plain": [
       "              Open         High          Low        Close    Adj Close  \\\n",
       "count  4027.000000  4027.000000  4027.000000  4027.000000  4027.000000   \n",
       "mean    100.937661   101.696523   100.065253   100.926040    91.350681   \n",
       "std      35.783976    35.906101    35.629777    35.773671    37.886905   \n",
       "min      34.730000    35.639999    34.259998    34.389999    28.755594   \n",
       "25%      71.250000    71.944999    70.435001    71.250000    59.072220   \n",
       "50%      86.779999    86.959999    86.040001    86.599998    76.912872   \n",
       "75%     127.270001   128.290001   125.970001   126.810001   120.786014   \n",
       "max     201.160004   201.179993   198.130005   199.139999   197.269363   \n",
       "\n",
       "             Volume  \n",
       "count  4.027000e+03  \n",
       "mean   4.548999e+07  \n",
       "std    3.051934e+07  \n",
       "min    1.200000e+03  \n",
       "25%    2.449420e+07  \n",
       "50%    3.721970e+07  \n",
       "75%    5.791915e+07  \n",
       "max    3.551170e+08  "
      ]
     },
     "execution_count": 9,
     "metadata": {},
     "output_type": "execute_result"
    }
   ],
   "source": [
    "df_num.describe()"
   ]
  },
  {
   "cell_type": "markdown",
   "id": "2be0554d",
   "metadata": {},
   "source": [
    "### Using `ARIMA` Model"
   ]
  },
  {
   "cell_type": "code",
   "execution_count": 10,
   "id": "67dc35e1",
   "metadata": {},
   "outputs": [
    {
     "data": {
      "image/png": "[encoded data removed]",
      "text/plain": [
       "<Figure size 432x288 with 1 Axes>"
      ]
     },
     "metadata": {
      "needs_background": "light"
     },
     "output_type": "display_data"
    }
   ],
   "source": [
    "# Checking for Cross-correlation\n",
    "plt.figure()\n",
    "pd.plotting.lag_plot(df_num['Close'],lag=3)\n",
    "plt.title('IWM - Autocorrelation plot with lag = 3')\n",
    "plt.show()"
   ]
  },
  {
   "cell_type": "markdown",
   "id": "884bf11a",
   "metadata": {},
   "source": [
    "### There is an auto correlation for lag=3 (i.e the data of current day is correlated to previous 3 days' data)"
   ]
  },
  {
   "cell_type": "markdown",
   "id": "dfd49e98",
   "metadata": {},
   "source": [
    "### Visualize"
   ]
  },
  {
   "cell_type": "code",
   "execution_count": 11,
   "id": "e51266a1",
   "metadata": {},
   "outputs": [
    {
     "data": {
      "image/png": "[encoded data removed]",
      "text/plain": [
       "<Figure size 1080x648 with 1 Axes>"
      ]
     },
     "metadata": {
      "needs_background": "light"
     },
     "output_type": "display_data"
    }
   ],
   "source": [
    "plt.figure(figsize=(15,9))\n",
    "plt.grid(True)\n",
    "plt.plot(df_num['Close'])\n",
    "plt.title('IWM stock price over time')\n",
    "plt.xlabel('Time')\n",
    "plt.ylabel('Price')\n",
    "plt.show()"
   ]
  },
  {
   "cell_type": "code",
   "execution_count": 12,
   "id": "bfe6a212",
   "metadata": {},
   "outputs": [],
   "source": [
    "# Split date into train and test\n",
    "train_data, test_data = df_num[:int(len(df_num)*0.9)], df_num[int(len(df_num)*0.9):]"
   ]
  },
  {
   "cell_type": "code",
   "execution_count": 13,
   "id": "b417e48d",
   "metadata": {},
   "outputs": [
    {
     "data": {
      "text/plain": [
       "<matplotlib.legend.Legend at 0x28cd6188cd0>"
      ]
     },
     "execution_count": 13,
     "metadata": {},
     "output_type": "execute_result"
    },
    {
     "data": {
      "image/png": "[encoded data removed]",
      "text/plain": [
       "<Figure size 1080x648 with 1 Axes>"
      ]
     },
     "metadata": {
      "needs_background": "light"
     },
     "output_type": "display_data"
    }
   ],
   "source": [
    "plt.figure(figsize=(15,9))\n",
    "plt.grid(True)\n",
    "plt.xlabel('Dates')\n",
    "plt.ylabel('Closing Prices')\n",
    "plt.plot(df_num['Close'], 'green', label='Train data')\n",
    "plt.plot(test_data['Close'], 'blue', label='Test data')\n",
    "plt.legend()"
   ]
  },
  {
   "cell_type": "markdown",
   "id": "28b74b1c",
   "metadata": {},
   "source": [
    "### `auto_arima` function seeks to identify the most optimal parameters for an `ARIMA` model, and returns a fitted `ARIMA` model. "
   ]
  },
  {
   "cell_type": "code",
   "execution_count": 14,
   "id": "6080faa0",
   "metadata": {},
   "outputs": [
    {
     "name": "stdout",
     "output_type": "stream",
     "text": [
      "Performing stepwise search to minimize aic\n",
      " ARIMA(0,1,0)(0,0,0)[0] intercept   : AIC=11511.041, Time=0.09 sec\n",
      " ARIMA(1,1,0)(0,0,0)[0] intercept   : AIC=11506.589, Time=0.18 sec\n",
      " ARIMA(0,1,1)(0,0,0)[0] intercept   : AIC=11506.466, Time=0.23 sec\n",
      " ARIMA(0,1,0)(0,0,0)[0]             : AIC=11510.486, Time=0.07 sec\n",
      " ARIMA(1,1,1)(0,0,0)[0] intercept   : AIC=11508.301, Time=0.38 sec\n",
      " ARIMA(0,1,2)(0,0,0)[0] intercept   : AIC=11508.226, Time=0.36 sec\n",
      " ARIMA(1,1,2)(0,0,0)[0] intercept   : AIC=11510.272, Time=0.65 sec\n",
      " ARIMA(0,1,1)(0,0,0)[0]             : AIC=11506.049, Time=0.16 sec\n",
      " ARIMA(1,1,1)(0,0,0)[0]             : AIC=11507.907, Time=0.15 sec\n",
      " ARIMA(0,1,2)(0,0,0)[0]             : AIC=11507.835, Time=0.19 sec\n",
      " ARIMA(1,1,0)(0,0,0)[0]             : AIC=11506.164, Time=0.10 sec\n",
      " ARIMA(1,1,2)(0,0,0)[0]             : AIC=11509.894, Time=0.22 sec\n",
      "\n",
      "Best model:  ARIMA(0,1,1)(0,0,0)[0]          \n",
      "Total fit time: 2.820 seconds\n",
      "                               SARIMAX Results                                \n",
      "==============================================================================\n",
      "Dep. Variable:                      y   No. Observations:                 3624\n",
      "Model:               SARIMAX(0, 1, 1)   Log Likelihood               -5751.024\n",
      "Date:                Fri, 11 Feb 2022   AIC                          11506.049\n",
      "Time:                        07:49:54   BIC                          11518.439\n",
      "Sample:                             0   HQIC                         11510.463\n",
      "                               - 3624                                         \n",
      "Covariance Type:                  opg                                         \n",
      "==============================================================================\n",
      "                 coef    std err          z      P>|z|      [0.025      0.975]\n",
      "------------------------------------------------------------------------------\n",
      "ma.L1         -0.0425      0.013     -3.317      0.001      -0.068      -0.017\n",
      "sigma2         1.4005      0.023     61.950      0.000       1.356       1.445\n",
      "===================================================================================\n",
      "Ljung-Box (L1) (Q):                   0.00   Jarque-Bera (JB):               893.64\n",
      "Prob(Q):                              0.99   Prob(JB):                         0.00\n",
      "Heteroskedasticity (H):               1.56   Skew:                            -0.43\n",
      "Prob(H) (two-sided):                  0.00   Kurtosis:                         5.28\n",
      "===================================================================================\n",
      "\n",
      "Warnings:\n",
      "[1] Covariance matrix calculated using the outer product of gradients (complex-step).\n"
     ]
    }
   ],
   "source": [
    "AUTO_ARIMA = auto_arima(train_data['Close'], start_p=0, start_q=0,\n",
    "                      test='adf',       # use adftest to find optimal 'd'\n",
    "                      max_p=3, max_q=3, # maximum p and q\n",
    "                      m=1,              # frequency of series\n",
    "                      d=None,           # let model determine 'd'\n",
    "                      seasonal=False,   # No Seasonality\n",
    "                      start_P=0, \n",
    "                      D=0, \n",
    "                      trace=True,\n",
    "                      error_action='ignore',  \n",
    "                      suppress_warnings=True, \n",
    "                      stepwise=True)\n",
    "print(AUTO_ARIMA.summary())"
   ]
  },
  {
   "cell_type": "code",
   "execution_count": 15,
   "id": "e4f09ac8",
   "metadata": {},
   "outputs": [
    {
     "name": "stdout",
     "output_type": "stream",
     "text": [
      "                             ARIMA Model Results                              \n",
      "==============================================================================\n",
      "Dep. Variable:                D.Close   No. Observations:                 3623\n",
      "Model:                 ARIMA(0, 1, 1)   Log Likelihood               -5750.233\n",
      "Method:                       css-mle   S.D. of innovations              1.183\n",
      "Date:                Fri, 11 Feb 2022   AIC                          11506.466\n",
      "Time:                        07:49:55   BIC                          11525.051\n",
      "Sample:                             1   HQIC                         11513.087\n",
      "                                                                              \n",
      "=================================================================================\n",
      "                    coef    std err          z      P>|z|      [0.025      0.975]\n",
      "---------------------------------------------------------------------------------\n",
      "const             0.0237      0.019      1.259      0.208      -0.013       0.061\n",
      "ma.L1.D.Close    -0.0430      0.017     -2.569      0.010      -0.076      -0.010\n",
      "                                    Roots                                    \n",
      "=============================================================================\n",
      "                  Real          Imaginary           Modulus         Frequency\n",
      "-----------------------------------------------------------------------------\n",
      "MA.1           23.2708           +0.0000j           23.2708            0.0000\n",
      "-----------------------------------------------------------------------------\n"
     ]
    },
    {
     "name": "stderr",
     "output_type": "stream",
     "text": [
      "C:\\Users\\Mohamed Nabil\\anaconda3\\lib\\site-packages\\statsmodels\\tsa\\base\\tsa_model.py:581: ValueWarning: A date index has been provided, but it has no associated frequency information and so will be ignored when e.g. forecasting.\n",
      "  warnings.warn('A date index has been provided, but it has no'\n",
      "C:\\Users\\Mohamed Nabil\\anaconda3\\lib\\site-packages\\statsmodels\\tsa\\base\\tsa_model.py:581: ValueWarning: A date index has been provided, but it has no associated frequency information and so will be ignored when e.g. forecasting.\n",
      "  warnings.warn('A date index has been provided, but it has no'\n"
     ]
    }
   ],
   "source": [
    "# Fitting the ARIMA model\n",
    "model = ARIMA(train_data['Close'], order=(0,1,1))  \n",
    "fitted = model.fit(disp=-1)  \n",
    "print(fitted.summary())"
   ]
  },
  {
   "cell_type": "code",
   "execution_count": 16,
   "id": "4565bed7",
   "metadata": {},
   "outputs": [
    {
     "data": {
      "image/png": "[encoded data removed]",
      "text/plain": [
       "<Figure size 1200x500 with 1 Axes>"
      ]
     },
     "metadata": {
      "needs_background": "light"
     },
     "output_type": "display_data"
    }
   ],
   "source": [
    "# Forecast\n",
    "fc, se, conf = fitted.forecast(403, alpha=0.05)  \n",
    "fc_series = pd.Series(fc, index=test_data.index)\n",
    "lower_series = pd.Series(conf[:, 0], index=test_data.index)\n",
    "upper_series = pd.Series(conf[:, 1], index=test_data.index)\n",
    "plt.figure(figsize=(12,5), dpi=100)\n",
    "plt.plot(train_data['Close'], label='training')\n",
    "plt.plot(test_data['Close'], color = 'blue', label='Actual Stock Price')\n",
    "plt.plot(fc_series, color = 'orange',label='Predicted Stock Price')\n",
    "plt.fill_between(lower_series.index, lower_series, upper_series, \n",
    "                 color='k', alpha=.10)\n",
    "plt.title('IWM Stock Price Prediction')\n",
    "plt.xlabel('Time')\n",
    "plt.ylabel('Actual Stock Price')\n",
    "plt.legend(loc='upper left', fontsize=8)\n",
    "plt.show()"
   ]
  },
  {
   "cell_type": "code",
   "execution_count": 17,
   "id": "b33f5013",
   "metadata": {},
   "outputs": [
    {
     "name": "stdout",
     "output_type": "stream",
     "text": [
      "MSE: 300.5874281766354\n",
      "MAE: 12.275014310040616\n",
      "RMSE: 17.33745737346268\n",
      "MAPE: 0.08663977185732034\n"
     ]
    }
   ],
   "source": [
    "# report performance\n",
    "mse = mean_squared_error(test_data['Close'], fc)\n",
    "print('MSE: '+str(mse))\n",
    "mae = mean_absolute_error(test_data['Close'], fc)\n",
    "print('MAE: '+str(mae))\n",
    "rmse = np.sqrt(mean_squared_error(test_data['Close'], fc))\n",
    "print('RMSE: '+str(rmse))\n",
    "mape = np.mean(np.abs(fc - test_data['Close'])/np.abs(test_data['Close']))\n",
    "print('MAPE: '+str(mape))"
   ]
  },
  {
   "cell_type": "markdown",
   "id": "dc2b40a1",
   "metadata": {},
   "source": [
    "### Around 8.6% `MAPE(Mean Absolute Percentage Error)` implies the model is about 91.4% accurate in predicting the test set observations."
   ]
  },
  {
   "cell_type": "markdown",
   "id": "34e91a04",
   "metadata": {},
   "source": [
    "### Using `LSTM` Model"
   ]
  },
  {
   "cell_type": "code",
   "execution_count": 18,
   "id": "2e278331",
   "metadata": {},
   "outputs": [
    {
     "data": {
      "text/html": [
       "<div>\n",
       "<style scoped>\n",
       "    .dataframe tbody tr th:only-of-type {\n",
       "        vertical-align: middle;\n",
       "    }\n",
       "\n",
       "    .dataframe tbody tr th {\n",
       "        vertical-align: top;\n",
       "    }\n",
       "\n",
       "    .dataframe thead th {\n",
       "        text-align: right;\n",
       "    }\n",
       "</style>\n",
       "<table border=\"1\" class=\"dataframe\">\n",
       "  <thead>\n",
       "    <tr style=\"text-align: right;\">\n",
       "      <th></th>\n",
       "      <th>Close</th>\n",
       "    </tr>\n",
       "    <tr>\n",
       "      <th>Date</th>\n",
       "      <th></th>\n",
       "    </tr>\n",
       "  </thead>\n",
       "  <tbody>\n",
       "    <tr>\n",
       "      <th>2005-01-03</th>\n",
       "      <td>63.910000</td>\n",
       "    </tr>\n",
       "    <tr>\n",
       "      <th>2005-01-04</th>\n",
       "      <td>62.540001</td>\n",
       "    </tr>\n",
       "    <tr>\n",
       "      <th>2005-01-05</th>\n",
       "      <td>61.290001</td>\n",
       "    </tr>\n",
       "    <tr>\n",
       "      <th>2005-01-06</th>\n",
       "      <td>61.615002</td>\n",
       "    </tr>\n",
       "    <tr>\n",
       "      <th>2005-01-07</th>\n",
       "      <td>60.930000</td>\n",
       "    </tr>\n",
       "  </tbody>\n",
       "</table>\n",
       "</div>"
      ],
      "text/plain": [
       "                Close\n",
       "Date                 \n",
       "2005-01-03  63.910000\n",
       "2005-01-04  62.540001\n",
       "2005-01-05  61.290001\n",
       "2005-01-06  61.615002\n",
       "2005-01-07  60.930000"
      ]
     },
     "execution_count": 18,
     "metadata": {},
     "output_type": "execute_result"
    }
   ],
   "source": [
    "stock = df_num['Close'].copy()\n",
    "stock = pd.DataFrame(stock)\n",
    "stock.head()"
   ]
  },
  {
   "cell_type": "code",
   "execution_count": 19,
   "id": "3390b88c",
   "metadata": {},
   "outputs": [],
   "source": [
    "scaler = MinMaxScaler(feature_range=(0,1))\n",
    "df = scaler.fit_transform(stock)"
   ]
  },
  {
   "cell_type": "code",
   "execution_count": 20,
   "id": "35d400bb",
   "metadata": {},
   "outputs": [
    {
     "name": "stdout",
     "output_type": "stream",
     "text": [
      "3221\n",
      "806\n"
     ]
    }
   ],
   "source": [
    "# Train test split\n",
    "train_size = int(len(df)*0.8)\n",
    "test_size = len(df) - train_size\n",
    "initial_train_data,test_data=df[0:train_size,:],df[train_size:len(df),:1]\n",
    "\n",
    "print(train_size,test_size,sep='\\n')"
   ]
  },
  {
   "cell_type": "code",
   "execution_count": 21,
   "id": "418f475c",
   "metadata": {},
   "outputs": [],
   "source": [
    "# Validation Data\n",
    "train_data,cv_data = initial_train_data[0:int(len(initial_train_data)*0.8)],initial_train_data[int(len(initial_train_data)*0.8):]"
   ]
  },
  {
   "cell_type": "code",
   "execution_count": 22,
   "id": "e065dd9f",
   "metadata": {},
   "outputs": [],
   "source": [
    "# Convert an array of values into a dataset matrix\n",
    "def create_dataset(dataset, time_step=1):\n",
    "    dataX, dataY = [], []\n",
    "    for i in range(len(dataset)-time_step-1):\n",
    "        a = dataset[i:(i+time_step), 0]   \n",
    "        dataX.append(a)\n",
    "        dataY.append(dataset[i + time_step, 0])\n",
    "    return np.array(dataX), np.array(dataY)"
   ]
  },
  {
   "cell_type": "code",
   "execution_count": 23,
   "id": "0db36199",
   "metadata": {},
   "outputs": [
    {
     "name": "stdout",
     "output_type": "stream",
     "text": [
      "(2515, 60)\n",
      "(2515,)\n"
     ]
    }
   ],
   "source": [
    "time_step = 60\n",
    "Xtrain, ytrain = create_dataset(train_data, time_step)\n",
    "Xtest, ytest = create_dataset(test_data, time_step)\n",
    "Xcv,ycv = create_dataset(cv_data, time_step)\n",
    "\n",
    "print(Xtrain.shape,ytrain.shape,sep='\\n')"
   ]
  },
  {
   "cell_type": "code",
   "execution_count": 24,
   "id": "ec59749d",
   "metadata": {},
   "outputs": [
    {
     "name": "stdout",
     "output_type": "stream",
     "text": [
      "(745, 60)\n",
      "(745,)\n"
     ]
    }
   ],
   "source": [
    "print(Xtest.shape,ytest.shape,sep='\\n')"
   ]
  },
  {
   "cell_type": "code",
   "execution_count": 25,
   "id": "c09ebbe5",
   "metadata": {},
   "outputs": [],
   "source": [
    "# Reshape input to be [samples, time steps, features] which is required for LSTM\n",
    "Xtrain =Xtrain.reshape(Xtrain.shape[0],Xtrain.shape[1] , 1)\n",
    "Xtest = Xtest.reshape(Xtest.shape[0],Xtest.shape[1] , 1)\n",
    "Xcv = Xcv.reshape(Xcv.shape[0],Xcv.shape[1] , 1)"
   ]
  },
  {
   "cell_type": "code",
   "execution_count": 26,
   "id": "368df182",
   "metadata": {},
   "outputs": [],
   "source": [
    "# Create the Stacked LSTM model\n",
    "from tensorflow.keras.models import Sequential\n",
    "from tensorflow.keras.layers import Dense\n",
    "from tensorflow.keras.layers import LSTM\n",
    "from tensorflow.keras.optimizers import Adam\n",
    "from tensorflow.keras import backend as K\n",
    "import keras"
   ]
  },
  {
   "cell_type": "code",
   "execution_count": 27,
   "id": "f564c3dd",
   "metadata": {},
   "outputs": [],
   "source": [
    "#Defining our metric\n",
    "def root_mean_squared_error(y_true, y_pred):\n",
    "    return K.sqrt(K.mean(K.square(y_pred - y_true)))"
   ]
  },
  {
   "cell_type": "code",
   "execution_count": 28,
   "id": "344bbdc8",
   "metadata": {},
   "outputs": [],
   "source": [
    "## LSTM Model Initialization\n",
    "model = Sequential()\n",
    "model.add(LSTM(units=128, activation='tanh', kernel_initializer=keras.initializers.glorot_uniform(seed=26), input_shape = (Xtrain.shape[1], 1), unroll = True))\n",
    "model.add(Dense(1, name=\"output_layer\"))\n",
    "model.compile(optimizer = Adam(learning_rate=0.01), loss = root_mean_squared_error)"
   ]
  },
  {
   "cell_type": "code",
   "execution_count": 29,
   "id": "41650ea0",
   "metadata": {},
   "outputs": [
    {
     "name": "stdout",
     "output_type": "stream",
     "text": [
      "Epoch 1/100\n",
      "158/158 [==============================] - 11s 32ms/step - loss: 0.0244 - val_loss: 0.0221\n",
      "Epoch 2/100\n",
      "158/158 [==============================] - 4s 28ms/step - loss: 0.0112 - val_loss: 0.0205\n",
      "Epoch 3/100\n",
      "158/158 [==============================] - 5s 31ms/step - loss: 0.0102 - val_loss: 0.0266\n",
      "Epoch 4/100\n",
      "158/158 [==============================] - 4s 27ms/step - loss: 0.0095 - val_loss: 0.0110\n",
      "Epoch 5/100\n",
      "158/158 [==============================] - 5s 34ms/step - loss: 0.0089 - val_loss: 0.0079\n",
      "Epoch 6/100\n",
      "158/158 [==============================] - 5s 32ms/step - loss: 0.0089 - val_loss: 0.0114\n",
      "Epoch 7/100\n",
      "158/158 [==============================] - 5s 30ms/step - loss: 0.0090 - val_loss: 0.0114\n",
      "Epoch 8/100\n",
      "158/158 [==============================] - 5s 29ms/step - loss: 0.0084 - val_loss: 0.0127\n",
      "Epoch 9/100\n",
      "158/158 [==============================] - 5s 32ms/step - loss: 0.0086 - val_loss: 0.0127\n",
      "Epoch 10/100\n",
      "158/158 [==============================] - 5s 33ms/step - loss: 0.0086 - val_loss: 0.0105\n",
      "Epoch 11/100\n",
      "158/158 [==============================] - 5s 31ms/step - loss: 0.0082 - val_loss: 0.0158\n",
      "Epoch 12/100\n",
      "158/158 [==============================] - 4s 28ms/step - loss: 0.0084 - val_loss: 0.0090\n",
      "Epoch 13/100\n",
      "158/158 [==============================] - 4s 26ms/step - loss: 0.0083 - val_loss: 0.0082\n",
      "Epoch 14/100\n",
      "158/158 [==============================] - 5s 30ms/step - loss: 0.0082 - val_loss: 0.0156\n",
      "Epoch 15/100\n",
      "158/158 [==============================] - 5s 32ms/step - loss: 0.0078 - val_loss: 0.0131\n",
      "Epoch 16/100\n",
      "158/158 [==============================] - 5s 32ms/step - loss: 0.0084 - val_loss: 0.0085\n",
      "Epoch 17/100\n",
      "158/158 [==============================] - 5s 35ms/step - loss: 0.0090 - val_loss: 0.0078\n",
      "Epoch 18/100\n",
      "158/158 [==============================] - 4s 28ms/step - loss: 0.0084 - val_loss: 0.0091\n",
      "Epoch 19/100\n",
      "158/158 [==============================] - 4s 28ms/step - loss: 0.0085 - val_loss: 0.0135\n",
      "Epoch 20/100\n",
      "158/158 [==============================] - 4s 26ms/step - loss: 0.0093 - val_loss: 0.0074\n",
      "Epoch 21/100\n",
      "158/158 [==============================] - 4s 26ms/step - loss: 0.0078 - val_loss: 0.0093\n",
      "Epoch 22/100\n",
      "158/158 [==============================] - 5s 34ms/step - loss: 0.0081 - val_loss: 0.0080\n",
      "Epoch 23/100\n",
      "158/158 [==============================] - 5s 35ms/step - loss: 0.0080 - val_loss: 0.0095\n",
      "Epoch 24/100\n",
      "158/158 [==============================] - 5s 29ms/step - loss: 0.0076 - val_loss: 0.0162\n",
      "Epoch 25/100\n",
      "158/158 [==============================] - 5s 32ms/step - loss: 0.0077 - val_loss: 0.0176\n",
      "Epoch 26/100\n",
      "158/158 [==============================] - 5s 29ms/step - loss: 0.0082 - val_loss: 0.0075\n",
      "Epoch 27/100\n",
      "158/158 [==============================] - 4s 26ms/step - loss: 0.0075 - val_loss: 0.0088\n",
      "Epoch 28/100\n",
      "158/158 [==============================] - 4s 26ms/step - loss: 0.0076 - val_loss: 0.0111\n",
      "Epoch 29/100\n",
      "158/158 [==============================] - 4s 26ms/step - loss: 0.0076 - val_loss: 0.0079\n",
      "Epoch 30/100\n",
      "158/158 [==============================] - 4s 26ms/step - loss: 0.0077 - val_loss: 0.0115\n",
      "Epoch 31/100\n",
      "158/158 [==============================] - 4s 26ms/step - loss: 0.0079 - val_loss: 0.0074\n",
      "Epoch 32/100\n",
      "158/158 [==============================] - 4s 26ms/step - loss: 0.0083 - val_loss: 0.0174\n",
      "Epoch 33/100\n",
      "158/158 [==============================] - 4s 28ms/step - loss: 0.0074 - val_loss: 0.0153\n",
      "Epoch 34/100\n",
      "158/158 [==============================] - 4s 26ms/step - loss: 0.0078 - val_loss: 0.0076\n",
      "Epoch 35/100\n",
      "158/158 [==============================] - 4s 27ms/step - loss: 0.0076 - val_loss: 0.0137\n",
      "Epoch 36/100\n",
      "158/158 [==============================] - 5s 29ms/step - loss: 0.0077 - val_loss: 0.0155\n",
      "Epoch 37/100\n",
      "158/158 [==============================] - 4s 28ms/step - loss: 0.0078 - val_loss: 0.0080\n",
      "Epoch 38/100\n",
      "158/158 [==============================] - 4s 25ms/step - loss: 0.0080 - val_loss: 0.0104\n",
      "Epoch 39/100\n",
      "158/158 [==============================] - 4s 25ms/step - loss: 0.0075 - val_loss: 0.0085\n",
      "Epoch 40/100\n",
      "158/158 [==============================] - 4s 26ms/step - loss: 0.0078 - val_loss: 0.0091\n",
      "Epoch 41/100\n",
      "158/158 [==============================] - 4s 26ms/step - loss: 0.0076 - val_loss: 0.0078\n",
      "Epoch 42/100\n",
      "158/158 [==============================] - 4s 28ms/step - loss: 0.0077 - val_loss: 0.0103\n",
      "Epoch 43/100\n",
      "158/158 [==============================] - 4s 27ms/step - loss: 0.0076 - val_loss: 0.0100\n",
      "Epoch 44/100\n",
      "158/158 [==============================] - 4s 27ms/step - loss: 0.0079 - val_loss: 0.0078\n",
      "Epoch 45/100\n",
      "158/158 [==============================] - 4s 26ms/step - loss: 0.0077 - val_loss: 0.0076\n",
      "Epoch 46/100\n",
      "158/158 [==============================] - 4s 27ms/step - loss: 0.0075 - val_loss: 0.0104\n",
      "Epoch 47/100\n",
      "158/158 [==============================] - 4s 28ms/step - loss: 0.0077 - val_loss: 0.0074\n",
      "Epoch 48/100\n",
      "158/158 [==============================] - 5s 30ms/step - loss: 0.0081 - val_loss: 0.0074\n",
      "Epoch 49/100\n",
      "158/158 [==============================] - 5s 30ms/step - loss: 0.0084 - val_loss: 0.0103\n",
      "Epoch 50/100\n",
      "158/158 [==============================] - 5s 30ms/step - loss: 0.0071 - val_loss: 0.0075\n",
      "Epoch 51/100\n",
      "158/158 [==============================] - 5s 34ms/step - loss: 0.0083 - val_loss: 0.0075\n",
      "Epoch 52/100\n",
      "158/158 [==============================] - 6s 36ms/step - loss: 0.0072 - val_loss: 0.0077\n",
      "Epoch 53/100\n",
      "158/158 [==============================] - 7s 41ms/step - loss: 0.0076 - val_loss: 0.0158\n",
      "Epoch 54/100\n",
      "158/158 [==============================] - 6s 35ms/step - loss: 0.0079 - val_loss: 0.0121\n",
      "Epoch 55/100\n",
      "158/158 [==============================] - 4s 27ms/step - loss: 0.0076 - val_loss: 0.0139\n",
      "Epoch 56/100\n",
      "158/158 [==============================] - 5s 32ms/step - loss: 0.0079 - val_loss: 0.0077\n",
      "Epoch 57/100\n",
      "158/158 [==============================] - 5s 33ms/step - loss: 0.0073 - val_loss: 0.0081\n",
      "Epoch 58/100\n",
      "158/158 [==============================] - 5s 30ms/step - loss: 0.0077 - val_loss: 0.0074\n",
      "Epoch 59/100\n",
      "158/158 [==============================] - 5s 30ms/step - loss: 0.0082 - val_loss: 0.0110\n",
      "Epoch 60/100\n",
      "158/158 [==============================] - 5s 30ms/step - loss: 0.0076 - val_loss: 0.0074\n",
      "Epoch 61/100\n",
      "158/158 [==============================] - 5s 30ms/step - loss: 0.0073 - val_loss: 0.0155\n",
      "Epoch 62/100\n",
      "158/158 [==============================] - 5s 34ms/step - loss: 0.0075 - val_loss: 0.0117\n",
      "Epoch 63/100\n",
      "158/158 [==============================] - 6s 38ms/step - loss: 0.0073 - val_loss: 0.0126\n",
      "Epoch 64/100\n",
      "158/158 [==============================] - 5s 33ms/step - loss: 0.0075 - val_loss: 0.0078\n",
      "Epoch 65/100\n",
      "158/158 [==============================] - 5s 29ms/step - loss: 0.0071 - val_loss: 0.0093\n",
      "Epoch 66/100\n",
      "158/158 [==============================] - 5s 34ms/step - loss: 0.0077 - val_loss: 0.0076\n",
      "Epoch 67/100\n",
      "158/158 [==============================] - 4s 26ms/step - loss: 0.0073 - val_loss: 0.0078\n",
      "Epoch 68/100\n",
      "158/158 [==============================] - 4s 26ms/step - loss: 0.0076 - val_loss: 0.0082\n",
      "Epoch 69/100\n",
      "158/158 [==============================] - 5s 34ms/step - loss: 0.0071 - val_loss: 0.0169\n",
      "Epoch 70/100\n",
      "158/158 [==============================] - 5s 32ms/step - loss: 0.0075 - val_loss: 0.0181\n",
      "Epoch 71/100\n",
      "158/158 [==============================] - 5s 34ms/step - loss: 0.0083 - val_loss: 0.0141\n",
      "Epoch 72/100\n",
      "158/158 [==============================] - 5s 29ms/step - loss: 0.0076 - val_loss: 0.0115\n",
      "Epoch 73/100\n",
      "158/158 [==============================] - 5s 31ms/step - loss: 0.0076 - val_loss: 0.0127\n",
      "Epoch 74/100\n",
      "158/158 [==============================] - 5s 32ms/step - loss: 0.0076 - val_loss: 0.0125\n",
      "Epoch 75/100\n",
      "158/158 [==============================] - 5s 31ms/step - loss: 0.0073 - val_loss: 0.0095\n",
      "Epoch 76/100\n",
      "158/158 [==============================] - 5s 29ms/step - loss: 0.0073 - val_loss: 0.0116\n",
      "Epoch 77/100\n",
      "158/158 [==============================] - 5s 29ms/step - loss: 0.0072 - val_loss: 0.0074\n",
      "Epoch 78/100\n",
      "158/158 [==============================] - 5s 32ms/step - loss: 0.0072 - val_loss: 0.0093\n",
      "Epoch 79/100\n",
      "158/158 [==============================] - 4s 27ms/step - loss: 0.0074 - val_loss: 0.0074\n",
      "Epoch 80/100\n"
     ]
    },
    {
     "name": "stdout",
     "output_type": "stream",
     "text": [
      "158/158 [==============================] - 4s 26ms/step - loss: 0.0076 - val_loss: 0.0089\n",
      "Epoch 81/100\n",
      "158/158 [==============================] - 5s 29ms/step - loss: 0.0074 - val_loss: 0.0075\n",
      "Epoch 82/100\n",
      "158/158 [==============================] - 4s 27ms/step - loss: 0.0077 - val_loss: 0.0166\n",
      "Epoch 83/100\n",
      "158/158 [==============================] - 4s 26ms/step - loss: 0.0073 - val_loss: 0.0076\n",
      "Epoch 84/100\n",
      "158/158 [==============================] - 4s 26ms/step - loss: 0.0071 - val_loss: 0.0108\n",
      "Epoch 85/100\n",
      "158/158 [==============================] - 4s 26ms/step - loss: 0.0077 - val_loss: 0.0157\n",
      "Epoch 86/100\n",
      "158/158 [==============================] - 4s 27ms/step - loss: 0.0075 - val_loss: 0.0107\n",
      "Epoch 87/100\n",
      "158/158 [==============================] - 5s 33ms/step - loss: 0.0072 - val_loss: 0.0075\n",
      "Epoch 88/100\n",
      "158/158 [==============================] - 5s 29ms/step - loss: 0.0071 - val_loss: 0.0179\n",
      "Epoch 89/100\n",
      "158/158 [==============================] - 4s 26ms/step - loss: 0.0076 - val_loss: 0.0111\n",
      "Epoch 90/100\n",
      "158/158 [==============================] - 4s 28ms/step - loss: 0.0075 - val_loss: 0.0085\n",
      "Epoch 91/100\n",
      "158/158 [==============================] - 4s 27ms/step - loss: 0.0073 - val_loss: 0.0090\n",
      "Epoch 92/100\n",
      "158/158 [==============================] - 4s 27ms/step - loss: 0.0075 - val_loss: 0.0112\n",
      "Epoch 93/100\n",
      "158/158 [==============================] - 4s 27ms/step - loss: 0.0075 - val_loss: 0.0126\n",
      "Epoch 94/100\n",
      "158/158 [==============================] - 4s 26ms/step - loss: 0.0073 - val_loss: 0.0075\n",
      "Epoch 95/100\n",
      "158/158 [==============================] - 4s 27ms/step - loss: 0.0075 - val_loss: 0.0168\n",
      "Epoch 96/100\n",
      "158/158 [==============================] - 4s 28ms/step - loss: 0.0081 - val_loss: 0.0147\n",
      "Epoch 97/100\n",
      "158/158 [==============================] - 5s 29ms/step - loss: 0.0075 - val_loss: 0.0074\n",
      "Epoch 98/100\n",
      "158/158 [==============================] - 4s 27ms/step - loss: 0.0079 - val_loss: 0.0079\n",
      "Epoch 99/100\n",
      "158/158 [==============================] - 4s 26ms/step - loss: 0.0072 - val_loss: 0.0100\n",
      "Epoch 100/100\n",
      "158/158 [==============================] - 4s 27ms/step - loss: 0.0074 - val_loss: 0.0074\n"
     ]
    },
    {
     "data": {
      "text/plain": [
       "<keras.callbacks.History at 0x28ce133ffd0>"
      ]
     },
     "execution_count": 29,
     "metadata": {},
     "output_type": "execute_result"
    }
   ],
   "source": [
    "model.fit(Xtrain,ytrain,validation_data=(Xcv,ycv),epochs=100,batch_size=16,verbose=1)"
   ]
  },
  {
   "cell_type": "code",
   "execution_count": 30,
   "id": "52f1607a",
   "metadata": {},
   "outputs": [],
   "source": [
    "# Prediction and check performance metrics\n",
    "train_predict=model.predict(Xtrain)\n",
    "test_predict=model.predict(Xtest)\n",
    "\n",
    "# Transform back to original form\n",
    "train_predict=scaler.inverse_transform(train_predict)\n",
    "test_predict=scaler.inverse_transform(test_predict)\n",
    "\n",
    "rescaled_ytrain = scaler.inverse_transform(ytrain.reshape(-1, 1))\n",
    "rescaled_ytest = scaler.inverse_transform(ytest.reshape(-1, 1))"
   ]
  },
  {
   "cell_type": "code",
   "execution_count": 31,
   "id": "3904d122",
   "metadata": {},
   "outputs": [
    {
     "data": {
      "text/plain": [
       "1.2472211168624205"
      ]
     },
     "execution_count": 31,
     "metadata": {},
     "output_type": "execute_result"
    }
   ],
   "source": [
    "# Calculate RMSE performance metrics\n",
    "np.sqrt(mean_squared_error(rescaled_ytrain,train_predict))"
   ]
  },
  {
   "cell_type": "code",
   "execution_count": 32,
   "id": "d1911190",
   "metadata": {},
   "outputs": [
    {
     "name": "stdout",
     "output_type": "stream",
     "text": [
      "MSE: 5.692085485017679\n",
      "MAE: 1.6589642485836567\n",
      "RMSE: 2.385809188727732\n",
      "MAPE: 0.011297092230640064\n"
     ]
    }
   ],
   "source": [
    "# report performance\n",
    "mse = mean_squared_error(rescaled_ytest,test_predict)\n",
    "print('MSE: '+str(mse))\n",
    "mae = mean_absolute_error(rescaled_ytest,test_predict)\n",
    "print('MAE: '+str(mae))\n",
    "rmse = np.sqrt(mean_squared_error(rescaled_ytest,test_predict))\n",
    "print('RMSE: '+str(rmse))\n",
    "mape = np.mean(np.abs(test_predict - rescaled_ytest)/np.abs(rescaled_ytest))\n",
    "print('MAPE: '+str(mape))"
   ]
  },
  {
   "cell_type": "code",
   "execution_count": 33,
   "id": "c12396f9",
   "metadata": {},
   "outputs": [
    {
     "data": {
      "image/png": "[encoded data removed]",
      "text/plain": [
       "<Figure size 1080x432 with 1 Axes>"
      ]
     },
     "metadata": {
      "needs_background": "light"
     },
     "output_type": "display_data"
    }
   ],
   "source": [
    "plt.figure(figsize=(15,6))\n",
    "plt.plot(scaler.inverse_transform(df[3363:,]),color='red', label='Actual Price')\n",
    "plt.plot(test_predict, color='blue', linestyle='dashed',label='Predicted Price')\n",
    "plt.title('IWM Prices Prediction - LSTM Model')\n",
    "plt.ylabel('Prices')\n",
    "plt.legend()\n",
    "plt.show()"
   ]
  },
  {
   "cell_type": "markdown",
   "id": "0ad96198",
   "metadata": {},
   "source": [
    "## Observations:\n",
    "It seems that there has been a great fall in stock market price in the time period of March 2020 - May 2020. This is mainly due to lockdown in `March 2020` due to COVID-19. So we will target the time period of `30-06-2019 to 29-06-2020` in this task. So, the prediction models results in error during this time period."
   ]
  },
  {
   "cell_type": "markdown",
   "id": "e0ecf560",
   "metadata": {},
   "source": [
    "## Text Data Analysis"
   ]
  },
  {
   "cell_type": "code",
   "execution_count": 34,
   "id": "c7656369",
   "metadata": {},
   "outputs": [],
   "source": [
    "import string\n",
    "import re\n",
    "import nltk\n",
    "from textblob import TextBlob"
   ]
  },
  {
   "cell_type": "code",
   "execution_count": 35,
   "id": "47a96e36",
   "metadata": {},
   "outputs": [
    {
     "data": {
      "text/html": [
       "<div>\n",
       "<style scoped>\n",
       "    .dataframe tbody tr th:only-of-type {\n",
       "        vertical-align: middle;\n",
       "    }\n",
       "\n",
       "    .dataframe tbody tr th {\n",
       "        vertical-align: top;\n",
       "    }\n",
       "\n",
       "    .dataframe thead th {\n",
       "        text-align: right;\n",
       "    }\n",
       "</style>\n",
       "<table border=\"1\" class=\"dataframe\">\n",
       "  <thead>\n",
       "    <tr style=\"text-align: right;\">\n",
       "      <th></th>\n",
       "      <th>publish_date</th>\n",
       "      <th>headline_category</th>\n",
       "      <th>headline_text</th>\n",
       "    </tr>\n",
       "  </thead>\n",
       "  <tbody>\n",
       "    <tr>\n",
       "      <th>0</th>\n",
       "      <td>20010102</td>\n",
       "      <td>unknown</td>\n",
       "      <td>Status quo will not be disturbed at Ayodhya; s...</td>\n",
       "    </tr>\n",
       "    <tr>\n",
       "      <th>1</th>\n",
       "      <td>20010102</td>\n",
       "      <td>unknown</td>\n",
       "      <td>Fissures in Hurriyat over Pak visit</td>\n",
       "    </tr>\n",
       "    <tr>\n",
       "      <th>2</th>\n",
       "      <td>20010102</td>\n",
       "      <td>unknown</td>\n",
       "      <td>America's unwanted heading for India?</td>\n",
       "    </tr>\n",
       "    <tr>\n",
       "      <th>3</th>\n",
       "      <td>20010102</td>\n",
       "      <td>unknown</td>\n",
       "      <td>For bigwigs; it is destination Goa</td>\n",
       "    </tr>\n",
       "    <tr>\n",
       "      <th>4</th>\n",
       "      <td>20010102</td>\n",
       "      <td>unknown</td>\n",
       "      <td>Extra buses to clear tourist traffic</td>\n",
       "    </tr>\n",
       "  </tbody>\n",
       "</table>\n",
       "</div>"
      ],
      "text/plain": [
       "   publish_date headline_category  \\\n",
       "0      20010102           unknown   \n",
       "1      20010102           unknown   \n",
       "2      20010102           unknown   \n",
       "3      20010102           unknown   \n",
       "4      20010102           unknown   \n",
       "\n",
       "                                       headline_text  \n",
       "0  Status quo will not be disturbed at Ayodhya; s...  \n",
       "1                Fissures in Hurriyat over Pak visit  \n",
       "2              America's unwanted heading for India?  \n",
       "3                 For bigwigs; it is destination Goa  \n",
       "4               Extra buses to clear tourist traffic  "
      ]
     },
     "execution_count": 35,
     "metadata": {},
     "output_type": "execute_result"
    }
   ],
   "source": [
    "df_text = pd.read_csv('india-news-headlines.csv')\n",
    "df_text.head()"
   ]
  },
  {
   "cell_type": "code",
   "execution_count": 36,
   "id": "850054d8",
   "metadata": {},
   "outputs": [
    {
     "data": {
      "text/html": [
       "<div>\n",
       "<style scoped>\n",
       "    .dataframe tbody tr th:only-of-type {\n",
       "        vertical-align: middle;\n",
       "    }\n",
       "\n",
       "    .dataframe tbody tr th {\n",
       "        vertical-align: top;\n",
       "    }\n",
       "\n",
       "    .dataframe thead th {\n",
       "        text-align: right;\n",
       "    }\n",
       "</style>\n",
       "<table border=\"1\" class=\"dataframe\">\n",
       "  <thead>\n",
       "    <tr style=\"text-align: right;\">\n",
       "      <th></th>\n",
       "      <th>publish_date</th>\n",
       "      <th>headline_category</th>\n",
       "      <th>headline_text</th>\n",
       "    </tr>\n",
       "  </thead>\n",
       "  <tbody>\n",
       "    <tr>\n",
       "      <th>0</th>\n",
       "      <td>2001-01-02</td>\n",
       "      <td>unknown</td>\n",
       "      <td>Status quo will not be disturbed at Ayodhya; s...</td>\n",
       "    </tr>\n",
       "    <tr>\n",
       "      <th>1</th>\n",
       "      <td>2001-01-02</td>\n",
       "      <td>unknown</td>\n",
       "      <td>Fissures in Hurriyat over Pak visit</td>\n",
       "    </tr>\n",
       "    <tr>\n",
       "      <th>2</th>\n",
       "      <td>2001-01-02</td>\n",
       "      <td>unknown</td>\n",
       "      <td>America's unwanted heading for India?</td>\n",
       "    </tr>\n",
       "    <tr>\n",
       "      <th>3</th>\n",
       "      <td>2001-01-02</td>\n",
       "      <td>unknown</td>\n",
       "      <td>For bigwigs; it is destination Goa</td>\n",
       "    </tr>\n",
       "    <tr>\n",
       "      <th>4</th>\n",
       "      <td>2001-01-02</td>\n",
       "      <td>unknown</td>\n",
       "      <td>Extra buses to clear tourist traffic</td>\n",
       "    </tr>\n",
       "  </tbody>\n",
       "</table>\n",
       "</div>"
      ],
      "text/plain": [
       "  publish_date headline_category  \\\n",
       "0   2001-01-02           unknown   \n",
       "1   2001-01-02           unknown   \n",
       "2   2001-01-02           unknown   \n",
       "3   2001-01-02           unknown   \n",
       "4   2001-01-02           unknown   \n",
       "\n",
       "                                       headline_text  \n",
       "0  Status quo will not be disturbed at Ayodhya; s...  \n",
       "1                Fissures in Hurriyat over Pak visit  \n",
       "2              America's unwanted heading for India?  \n",
       "3                 For bigwigs; it is destination Goa  \n",
       "4               Extra buses to clear tourist traffic  "
      ]
     },
     "execution_count": 36,
     "metadata": {},
     "output_type": "execute_result"
    }
   ],
   "source": [
    "# Handle the date format\n",
    "df_text['publish_date'] = pd.to_datetime(df_text['publish_date'],format='%Y%m%d')\n",
    "df_text.head()"
   ]
  },
  {
   "cell_type": "code",
   "execution_count": 37,
   "id": "01fea1f3",
   "metadata": {
    "scrolled": true
   },
   "outputs": [
    {
     "data": {
      "text/html": [
       "<div>\n",
       "<style scoped>\n",
       "    .dataframe tbody tr th:only-of-type {\n",
       "        vertical-align: middle;\n",
       "    }\n",
       "\n",
       "    .dataframe tbody tr th {\n",
       "        vertical-align: top;\n",
       "    }\n",
       "\n",
       "    .dataframe thead th {\n",
       "        text-align: right;\n",
       "    }\n",
       "</style>\n",
       "<table border=\"1\" class=\"dataframe\">\n",
       "  <thead>\n",
       "    <tr style=\"text-align: right;\">\n",
       "      <th></th>\n",
       "      <th>publish_date</th>\n",
       "      <th>headline_category</th>\n",
       "      <th>headline_text</th>\n",
       "    </tr>\n",
       "  </thead>\n",
       "  <tbody>\n",
       "    <tr>\n",
       "      <th>3424062</th>\n",
       "      <td>2020-12-31</td>\n",
       "      <td>city.jodhpur</td>\n",
       "      <td>Covid-19: Despite dip in cases; Rajasthan amon...</td>\n",
       "    </tr>\n",
       "    <tr>\n",
       "      <th>3424063</th>\n",
       "      <td>2020-12-31</td>\n",
       "      <td>city.udaipur</td>\n",
       "      <td>Covid-19: Despite dip in cases; Rajasthan amon...</td>\n",
       "    </tr>\n",
       "    <tr>\n",
       "      <th>3424064</th>\n",
       "      <td>2020-12-31</td>\n",
       "      <td>city.ajmer</td>\n",
       "      <td>Covid-19: Despite dip in cases; Rajasthan amon...</td>\n",
       "    </tr>\n",
       "    <tr>\n",
       "      <th>3424065</th>\n",
       "      <td>2020-12-31</td>\n",
       "      <td>removed</td>\n",
       "      <td>Govt extends deadline for use of FASTag till F...</td>\n",
       "    </tr>\n",
       "    <tr>\n",
       "      <th>3424066</th>\n",
       "      <td>2020-12-31</td>\n",
       "      <td>entertainment.bengali.movies.news</td>\n",
       "      <td>Celebs plan to party safely and responsibly on...</td>\n",
       "    </tr>\n",
       "  </tbody>\n",
       "</table>\n",
       "</div>"
      ],
      "text/plain": [
       "        publish_date                  headline_category  \\\n",
       "3424062   2020-12-31                       city.jodhpur   \n",
       "3424063   2020-12-31                       city.udaipur   \n",
       "3424064   2020-12-31                         city.ajmer   \n",
       "3424065   2020-12-31                            removed   \n",
       "3424066   2020-12-31  entertainment.bengali.movies.news   \n",
       "\n",
       "                                             headline_text  \n",
       "3424062  Covid-19: Despite dip in cases; Rajasthan amon...  \n",
       "3424063  Covid-19: Despite dip in cases; Rajasthan amon...  \n",
       "3424064  Covid-19: Despite dip in cases; Rajasthan amon...  \n",
       "3424065  Govt extends deadline for use of FASTag till F...  \n",
       "3424066  Celebs plan to party safely and responsibly on...  "
      ]
     },
     "execution_count": 37,
     "metadata": {},
     "output_type": "execute_result"
    }
   ],
   "source": [
    "df_text.tail()"
   ]
  },
  {
   "cell_type": "markdown",
   "id": "5ab5df94",
   "metadata": {},
   "source": [
    "### Since, we only have the the numerical data between `2005-01-03 to 2020-12-30`, we will only use the text data generated during these dates"
   ]
  },
  {
   "cell_type": "code",
   "execution_count": 38,
   "id": "ab837a8b",
   "metadata": {},
   "outputs": [],
   "source": [
    "text = df_text[df_text['publish_date'] >= '2005-01-03'].reset_index(drop=True)"
   ]
  },
  {
   "cell_type": "code",
   "execution_count": 39,
   "id": "3d553b44",
   "metadata": {},
   "outputs": [
    {
     "data": {
      "text/plain": [
       "(3085222, 3)"
      ]
     },
     "execution_count": 39,
     "metadata": {},
     "output_type": "execute_result"
    }
   ],
   "source": [
    "text.shape"
   ]
  },
  {
   "cell_type": "markdown",
   "id": "491160e6",
   "metadata": {},
   "source": [
    "### Since, we are doing a stock price prediction, we only need data related to `business`"
   ]
  },
  {
   "cell_type": "code",
   "execution_count": 40,
   "id": "edb24986",
   "metadata": {},
   "outputs": [
    {
     "data": {
      "text/plain": [
       "Index(['india', 'unknown', 'city.mumbai', 'city.delhi',\n",
       "       'business.india-business', 'city.chandigarh',\n",
       "       'entertainment.hindi.bollywood', 'city.hyderabad', 'city.nagpur',\n",
       "       'city.goa',\n",
       "       ...\n",
       "       'best-products.home-decor-and-garden.living-room-decor',\n",
       "       'health-case-studies', 'sports.tennis.top-stories.tennis-atp',\n",
       "       'elections.assembly-elections.goa',\n",
       "       '2013-the-year-sachin-bids-adieu.tennis-2013', 'talk-radio',\n",
       "       'sports.new-zealand-in-india-2016.interviews', 'recipes',\n",
       "       'ahmedabad-events', 'war-on-iraq.news'],\n",
       "      dtype='object', length=978)"
      ]
     },
     "execution_count": 40,
     "metadata": {},
     "output_type": "execute_result"
    }
   ],
   "source": [
    "text['headline_category'].value_counts().index"
   ]
  },
  {
   "cell_type": "code",
   "execution_count": 41,
   "id": "a99cb925",
   "metadata": {},
   "outputs": [],
   "source": [
    "business = [x for x in text['headline_category'].value_counts().index if 'business' in x]"
   ]
  },
  {
   "cell_type": "code",
   "execution_count": 42,
   "id": "818b8d4d",
   "metadata": {},
   "outputs": [
    {
     "data": {
      "text/plain": [
       "['business.india-business',\n",
       " 'business.international-business',\n",
       " 'business.personal-finance',\n",
       " 'business',\n",
       " 'india-business-news-wire',\n",
       " 'business.faqs.income-tax-faqs',\n",
       " 'business.mf-simplified.mf-news',\n",
       " 'business.mf-simplified.jargon-busters.debt',\n",
       " 'business.faqs.aadhar-faqs',\n",
       " 'business.mf-simplified.jargon-busters.equity',\n",
       " 'business.mf-simplified.faq',\n",
       " 'business.faqs.gst-faqs']"
      ]
     },
     "execution_count": 42,
     "metadata": {},
     "output_type": "execute_result"
    }
   ],
   "source": [
    "business"
   ]
  },
  {
   "cell_type": "code",
   "execution_count": 43,
   "id": "bf013b45",
   "metadata": {},
   "outputs": [
    {
     "data": {
      "text/html": [
       "<div>\n",
       "<style scoped>\n",
       "    .dataframe tbody tr th:only-of-type {\n",
       "        vertical-align: middle;\n",
       "    }\n",
       "\n",
       "    .dataframe tbody tr th {\n",
       "        vertical-align: top;\n",
       "    }\n",
       "\n",
       "    .dataframe thead th {\n",
       "        text-align: right;\n",
       "    }\n",
       "</style>\n",
       "<table border=\"1\" class=\"dataframe\">\n",
       "  <thead>\n",
       "    <tr style=\"text-align: right;\">\n",
       "      <th></th>\n",
       "      <th>publish_date</th>\n",
       "      <th>headline_category</th>\n",
       "      <th>headline_text</th>\n",
       "    </tr>\n",
       "  </thead>\n",
       "  <tbody>\n",
       "    <tr>\n",
       "      <th>0</th>\n",
       "      <td>2005-01-03</td>\n",
       "      <td>business.india-business</td>\n",
       "      <td>Anil Ambani resigns from IPCL</td>\n",
       "    </tr>\n",
       "    <tr>\n",
       "      <th>1</th>\n",
       "      <td>2005-01-03</td>\n",
       "      <td>business.india-business</td>\n",
       "      <td>Idea tapping the rural potential</td>\n",
       "    </tr>\n",
       "    <tr>\n",
       "      <th>2</th>\n",
       "      <td>2005-01-03</td>\n",
       "      <td>business.india-business</td>\n",
       "      <td>Sensex closes at new high of 6;679</td>\n",
       "    </tr>\n",
       "    <tr>\n",
       "      <th>3</th>\n",
       "      <td>2005-01-03</td>\n",
       "      <td>business.india-business</td>\n",
       "      <td>Separate prescriptions for private; public firms</td>\n",
       "    </tr>\n",
       "    <tr>\n",
       "      <th>4</th>\n",
       "      <td>2005-01-03</td>\n",
       "      <td>business.india-business</td>\n",
       "      <td>Tsunami not to hit growth: World Bank</td>\n",
       "    </tr>\n",
       "  </tbody>\n",
       "</table>\n",
       "</div>"
      ],
      "text/plain": [
       "  publish_date        headline_category  \\\n",
       "0   2005-01-03  business.india-business   \n",
       "1   2005-01-03  business.india-business   \n",
       "2   2005-01-03  business.india-business   \n",
       "3   2005-01-03  business.india-business   \n",
       "4   2005-01-03  business.india-business   \n",
       "\n",
       "                                      headline_text  \n",
       "0                     Anil Ambani resigns from IPCL  \n",
       "1                  Idea tapping the rural potential  \n",
       "2                Sensex closes at new high of 6;679  \n",
       "3  Separate prescriptions for private; public firms  \n",
       "4             Tsunami not to hit growth: World Bank  "
      ]
     },
     "execution_count": 43,
     "metadata": {},
     "output_type": "execute_result"
    }
   ],
   "source": [
    "text = text.loc[text['headline_category'].str.find('business') !=-1].reset_index(drop=True)\n",
    "text.head()"
   ]
  },
  {
   "cell_type": "markdown",
   "id": "d7f4f7fa",
   "metadata": {},
   "source": [
    "### Joining the rows of the same date "
   ]
  },
  {
   "cell_type": "code",
   "execution_count": 44,
   "id": "05befb98",
   "metadata": {},
   "outputs": [
    {
     "data": {
      "text/html": [
       "<div>\n",
       "<style scoped>\n",
       "    .dataframe tbody tr th:only-of-type {\n",
       "        vertical-align: middle;\n",
       "    }\n",
       "\n",
       "    .dataframe tbody tr th {\n",
       "        vertical-align: top;\n",
       "    }\n",
       "\n",
       "    .dataframe thead th {\n",
       "        text-align: right;\n",
       "    }\n",
       "</style>\n",
       "<table border=\"1\" class=\"dataframe\">\n",
       "  <thead>\n",
       "    <tr style=\"text-align: right;\">\n",
       "      <th></th>\n",
       "      <th>publish_date</th>\n",
       "      <th>headline_category</th>\n",
       "      <th>headline_text</th>\n",
       "    </tr>\n",
       "  </thead>\n",
       "  <tbody>\n",
       "    <tr>\n",
       "      <th>0</th>\n",
       "      <td>2005-01-03</td>\n",
       "      <td>business.india-business</td>\n",
       "      <td>Anil Ambani resigns from IPCL. Idea tapping th...</td>\n",
       "    </tr>\n",
       "    <tr>\n",
       "      <th>1</th>\n",
       "      <td>2005-01-04</td>\n",
       "      <td>business.india-business</td>\n",
       "      <td>Sensex will breach 7000-level in 2005. Major c...</td>\n",
       "    </tr>\n",
       "    <tr>\n",
       "      <th>2</th>\n",
       "      <td>2005-01-05</td>\n",
       "      <td>business.india-business</td>\n",
       "      <td>Aiyar for an end to 1-year oil contracts. Indi...</td>\n",
       "    </tr>\n",
       "    <tr>\n",
       "      <th>3</th>\n",
       "      <td>2005-01-06</td>\n",
       "      <td>business.india-business</td>\n",
       "      <td>ADC slashed; cell tariffs to fall. Govt's help...</td>\n",
       "    </tr>\n",
       "    <tr>\n",
       "      <th>4</th>\n",
       "      <td>2005-01-07</td>\n",
       "      <td>business.india-business</td>\n",
       "      <td>Ambanis headed for split: Report. Dividing Rel...</td>\n",
       "    </tr>\n",
       "  </tbody>\n",
       "</table>\n",
       "</div>"
      ],
      "text/plain": [
       "  publish_date        headline_category  \\\n",
       "0   2005-01-03  business.india-business   \n",
       "1   2005-01-04  business.india-business   \n",
       "2   2005-01-05  business.india-business   \n",
       "3   2005-01-06  business.india-business   \n",
       "4   2005-01-07  business.india-business   \n",
       "\n",
       "                                       headline_text  \n",
       "0  Anil Ambani resigns from IPCL. Idea tapping th...  \n",
       "1  Sensex will breach 7000-level in 2005. Major c...  \n",
       "2  Aiyar for an end to 1-year oil contracts. Indi...  \n",
       "3  ADC slashed; cell tariffs to fall. Govt's help...  \n",
       "4  Ambanis headed for split: Report. Dividing Rel...  "
      ]
     },
     "execution_count": 44,
     "metadata": {},
     "output_type": "execute_result"
    }
   ],
   "source": [
    "text = text.groupby('publish_date').agg({'headline_category':'first','headline_text': '. '.join}).reset_index()\n",
    "text.head()"
   ]
  },
  {
   "cell_type": "code",
   "execution_count": 45,
   "id": "de4b8bc5",
   "metadata": {},
   "outputs": [
    {
     "data": {
      "text/plain": [
       "3465"
      ]
     },
     "execution_count": 45,
     "metadata": {},
     "output_type": "execute_result"
    }
   ],
   "source": [
    "text['headline_text'] = text['headline_text'].str.lower()\n",
    "\n",
    "count = 0\n",
    "for txt in text['headline_text']:\n",
    "    if 'bse' in txt or 'sensex' in txt :\n",
    "        count+=1\n",
    "\n",
    "count"
   ]
  },
  {
   "cell_type": "markdown",
   "id": "e8dac1a2",
   "metadata": {},
   "source": [
    "### `Sensex` or `BSE` occurs 3396 times in the whole dataset"
   ]
  },
  {
   "cell_type": "code",
   "execution_count": 46,
   "id": "eb25c5f8",
   "metadata": {},
   "outputs": [],
   "source": [
    "from nltk import sent_tokenize\n",
    "\n",
    "def actual_news(data):\n",
    "    for index in data.index:\n",
    "        sentences = sent_tokenize(data['headline_text'][index])\n",
    "        relevant_line = ' '.join(sent for sent in sentences if 'sensex' in sent or 'bse' in sent)\n",
    "        if len(relevant_line)>5:\n",
    "            data['headline_text'][index] =relevant_line\n",
    "    return data\n",
    "\n",
    "text2 = actual_news(text)"
   ]
  },
  {
   "cell_type": "code",
   "execution_count": 47,
   "id": "e760df69",
   "metadata": {},
   "outputs": [
    {
     "data": {
      "text/html": [
       "<div>\n",
       "<style scoped>\n",
       "    .dataframe tbody tr th:only-of-type {\n",
       "        vertical-align: middle;\n",
       "    }\n",
       "\n",
       "    .dataframe tbody tr th {\n",
       "        vertical-align: top;\n",
       "    }\n",
       "\n",
       "    .dataframe thead th {\n",
       "        text-align: right;\n",
       "    }\n",
       "</style>\n",
       "<table border=\"1\" class=\"dataframe\">\n",
       "  <thead>\n",
       "    <tr style=\"text-align: right;\">\n",
       "      <th></th>\n",
       "      <th>publish_date</th>\n",
       "      <th>headline_category</th>\n",
       "      <th>headline_text</th>\n",
       "    </tr>\n",
       "  </thead>\n",
       "  <tbody>\n",
       "    <tr>\n",
       "      <th>0</th>\n",
       "      <td>2005-01-03</td>\n",
       "      <td>business.india-business</td>\n",
       "      <td>sensex closes at new high of 6;679. separate p...</td>\n",
       "    </tr>\n",
       "    <tr>\n",
       "      <th>1</th>\n",
       "      <td>2005-01-04</td>\n",
       "      <td>business.india-business</td>\n",
       "      <td>sensex will breach 7000-level in 2005. major c...</td>\n",
       "    </tr>\n",
       "    <tr>\n",
       "      <th>2</th>\n",
       "      <td>2005-01-05</td>\n",
       "      <td>business.india-business</td>\n",
       "      <td>low support from fii led to sensex crash</td>\n",
       "    </tr>\n",
       "    <tr>\n",
       "      <th>3</th>\n",
       "      <td>2005-01-06</td>\n",
       "      <td>business.india-business</td>\n",
       "      <td>adc slashed; cell tariffs to fall. govt's help...</td>\n",
       "    </tr>\n",
       "    <tr>\n",
       "      <th>4</th>\n",
       "      <td>2005-01-07</td>\n",
       "      <td>business.india-business</td>\n",
       "      <td>may 17 sensex crash: fm for revealing names; s...</td>\n",
       "    </tr>\n",
       "  </tbody>\n",
       "</table>\n",
       "</div>"
      ],
      "text/plain": [
       "  publish_date        headline_category  \\\n",
       "0   2005-01-03  business.india-business   \n",
       "1   2005-01-04  business.india-business   \n",
       "2   2005-01-05  business.india-business   \n",
       "3   2005-01-06  business.india-business   \n",
       "4   2005-01-07  business.india-business   \n",
       "\n",
       "                                       headline_text  \n",
       "0  sensex closes at new high of 6;679. separate p...  \n",
       "1  sensex will breach 7000-level in 2005. major c...  \n",
       "2           low support from fii led to sensex crash  \n",
       "3  adc slashed; cell tariffs to fall. govt's help...  \n",
       "4  may 17 sensex crash: fm for revealing names; s...  "
      ]
     },
     "execution_count": 47,
     "metadata": {},
     "output_type": "execute_result"
    }
   ],
   "source": [
    "text2.head()"
   ]
  },
  {
   "cell_type": "code",
   "execution_count": 48,
   "id": "50b92d7a",
   "metadata": {},
   "outputs": [],
   "source": [
    "# Cleaning the text\n",
    "from nltk import word_tokenize\n",
    "\n",
    "def clean_txt(text):\n",
    "    # Removing non alphanumeric text\n",
    "    text = re.sub('[^a-zA-Z]',' ',text)\n",
    "    return text\n",
    "\n",
    "text['headline_text'] = text['headline_text'].apply(clean_txt)"
   ]
  },
  {
   "cell_type": "markdown",
   "id": "89bf13f6",
   "metadata": {},
   "source": [
    "###  Sentiment Analysis of News Headlines"
   ]
  },
  {
   "cell_type": "code",
   "execution_count": 49,
   "id": "c543cbb3",
   "metadata": {},
   "outputs": [
    {
     "data": {
      "text/html": [
       "<div>\n",
       "<style scoped>\n",
       "    .dataframe tbody tr th:only-of-type {\n",
       "        vertical-align: middle;\n",
       "    }\n",
       "\n",
       "    .dataframe tbody tr th {\n",
       "        vertical-align: top;\n",
       "    }\n",
       "\n",
       "    .dataframe thead th {\n",
       "        text-align: right;\n",
       "    }\n",
       "</style>\n",
       "<table border=\"1\" class=\"dataframe\">\n",
       "  <thead>\n",
       "    <tr style=\"text-align: right;\">\n",
       "      <th></th>\n",
       "      <th>headline_text</th>\n",
       "    </tr>\n",
       "    <tr>\n",
       "      <th>Result</th>\n",
       "      <th></th>\n",
       "    </tr>\n",
       "  </thead>\n",
       "  <tbody>\n",
       "    <tr>\n",
       "      <th>negative</th>\n",
       "      <td>1680</td>\n",
       "    </tr>\n",
       "    <tr>\n",
       "      <th>neutral</th>\n",
       "      <td>1339</td>\n",
       "    </tr>\n",
       "    <tr>\n",
       "      <th>positive</th>\n",
       "      <td>2754</td>\n",
       "    </tr>\n",
       "  </tbody>\n",
       "</table>\n",
       "</div>"
      ],
      "text/plain": [
       "          headline_text\n",
       "Result                 \n",
       "negative           1680\n",
       "neutral            1339\n",
       "positive           2754"
      ]
     },
     "execution_count": 49,
     "metadata": {},
     "output_type": "execute_result"
    }
   ],
   "source": [
    "def getAnalysis_polarity(headline):\n",
    "    result = TextBlob(headline)\n",
    "    \n",
    "    if result.sentiment.polarity < 0:\n",
    "        return 'negative'\n",
    "    elif result.sentiment.polarity == 0:\n",
    "        return 'neutral'\n",
    "    else:\n",
    "        return 'positive'\n",
    "\n",
    "text2['Result'] = np.array([getAnalysis_polarity(headline) for headline in text2['headline_text']])\n",
    "\n",
    "final_result = text2.groupby(['Result']).agg({'headline_text':'count'})\n",
    "final_result"
   ]
  },
  {
   "cell_type": "code",
   "execution_count": 50,
   "id": "bbbf083f",
   "metadata": {},
   "outputs": [
    {
     "name": "stdout",
     "output_type": "stream",
     "text": [
      "Positive Headlines:  headline_text    47.704833\n",
      "Name: positive, dtype: float64\n",
      "\n",
      "\n",
      "Negative Headlines:  headline_text    29.100987\n",
      "Name: negative, dtype: float64\n",
      "\n",
      "\n",
      "Unbiased Headlines:  headline_text    23.19418\n",
      "Name: neutral, dtype: float64\n"
     ]
    }
   ],
   "source": [
    "negative = (final_result.loc['negative'] / len(text2))*100\n",
    "neutral = (final_result.loc['neutral'] / len(text2))*100\n",
    "positive = (final_result.loc['positive'] / len(text2))*100\n",
    "\n",
    "\n",
    "print('Positive Headlines: ' , positive )\n",
    "print('\\n\\nNegative Headlines: ' ,negative )\n",
    "print('\\n\\nUnbiased Headlines: ' , str(neutral))"
   ]
  },
  {
   "cell_type": "code",
   "execution_count": 51,
   "id": "84f152f6",
   "metadata": {},
   "outputs": [
    {
     "data": {
      "image/png": "[encoded data removed]",
      "text/plain": [
       "<Figure size 576x576 with 1 Axes>"
      ]
     },
     "metadata": {},
     "output_type": "display_data"
    }
   ],
   "source": [
    "plt.figure(figsize=(8,8))\n",
    "final_result['headline_text'].plot.pie(autopct='%1.1f%%')\n",
    "plt.title(\"Overall Sentiment Distribution Pie Chart\",fontweight=\"bold\")\n",
    "plt.show()"
   ]
  },
  {
   "cell_type": "markdown",
   "id": "0e4bb625",
   "metadata": {},
   "source": [
    "### Building the Hybrid Model"
   ]
  },
  {
   "cell_type": "code",
   "execution_count": 52,
   "id": "ac77213f",
   "metadata": {},
   "outputs": [],
   "source": [
    "hybrid_data = pd.merge(left=df_num,right=text2,\n",
    "                       left_on=df_num['Date'],\n",
    "                       right_on=text2['publish_date'],\n",
    "                       how='outer')"
   ]
  },
  {
   "cell_type": "code",
   "execution_count": 53,
   "id": "daf988d0",
   "metadata": {},
   "outputs": [
    {
     "data": {
      "text/html": [
       "<div>\n",
       "<style scoped>\n",
       "    .dataframe tbody tr th:only-of-type {\n",
       "        vertical-align: middle;\n",
       "    }\n",
       "\n",
       "    .dataframe tbody tr th {\n",
       "        vertical-align: top;\n",
       "    }\n",
       "\n",
       "    .dataframe thead th {\n",
       "        text-align: right;\n",
       "    }\n",
       "</style>\n",
       "<table border=\"1\" class=\"dataframe\">\n",
       "  <thead>\n",
       "    <tr style=\"text-align: right;\">\n",
       "      <th></th>\n",
       "      <th>key_0</th>\n",
       "      <th>Date</th>\n",
       "      <th>Open</th>\n",
       "      <th>High</th>\n",
       "      <th>Low</th>\n",
       "      <th>Close</th>\n",
       "      <th>Adj Close</th>\n",
       "      <th>Volume</th>\n",
       "      <th>publish_date</th>\n",
       "      <th>headline_category</th>\n",
       "      <th>headline_text</th>\n",
       "      <th>Result</th>\n",
       "    </tr>\n",
       "  </thead>\n",
       "  <tbody>\n",
       "    <tr>\n",
       "      <th>0</th>\n",
       "      <td>2005-01-03</td>\n",
       "      <td>2005-01-03</td>\n",
       "      <td>65.095001</td>\n",
       "      <td>65.209999</td>\n",
       "      <td>63.570000</td>\n",
       "      <td>63.910000</td>\n",
       "      <td>50.853107</td>\n",
       "      <td>16062600.0</td>\n",
       "      <td>2005-01-03</td>\n",
       "      <td>business.india-business</td>\n",
       "      <td>sensex closes at new high of        separate p...</td>\n",
       "      <td>positive</td>\n",
       "    </tr>\n",
       "    <tr>\n",
       "      <th>1</th>\n",
       "      <td>2005-01-04</td>\n",
       "      <td>2005-01-04</td>\n",
       "      <td>64.035004</td>\n",
       "      <td>64.084999</td>\n",
       "      <td>62.430000</td>\n",
       "      <td>62.540001</td>\n",
       "      <td>49.762993</td>\n",
       "      <td>27450000.0</td>\n",
       "      <td>2005-01-04</td>\n",
       "      <td>business.india-business</td>\n",
       "      <td>sensex will breach      level in       major c...</td>\n",
       "      <td>positive</td>\n",
       "    </tr>\n",
       "    <tr>\n",
       "      <th>2</th>\n",
       "      <td>2005-01-05</td>\n",
       "      <td>2005-01-05</td>\n",
       "      <td>62.470001</td>\n",
       "      <td>62.639999</td>\n",
       "      <td>61.290001</td>\n",
       "      <td>61.290001</td>\n",
       "      <td>48.768360</td>\n",
       "      <td>29884200.0</td>\n",
       "      <td>2005-01-05</td>\n",
       "      <td>business.india-business</td>\n",
       "      <td>low support from fii led to sensex crash</td>\n",
       "      <td>neutral</td>\n",
       "    </tr>\n",
       "    <tr>\n",
       "      <th>3</th>\n",
       "      <td>2005-01-06</td>\n",
       "      <td>2005-01-06</td>\n",
       "      <td>61.669998</td>\n",
       "      <td>62.200001</td>\n",
       "      <td>61.224998</td>\n",
       "      <td>61.615002</td>\n",
       "      <td>49.026966</td>\n",
       "      <td>23061200.0</td>\n",
       "      <td>2005-01-06</td>\n",
       "      <td>business.india-business</td>\n",
       "      <td>adc slashed  cell tariffs to fall  govt s help...</td>\n",
       "      <td>neutral</td>\n",
       "    </tr>\n",
       "    <tr>\n",
       "      <th>4</th>\n",
       "      <td>2005-01-07</td>\n",
       "      <td>2005-01-07</td>\n",
       "      <td>61.755001</td>\n",
       "      <td>61.950001</td>\n",
       "      <td>60.895000</td>\n",
       "      <td>60.930000</td>\n",
       "      <td>48.481922</td>\n",
       "      <td>20906200.0</td>\n",
       "      <td>2005-01-07</td>\n",
       "      <td>business.india-business</td>\n",
       "      <td>may    sensex crash  fm for revealing names  s...</td>\n",
       "      <td>neutral</td>\n",
       "    </tr>\n",
       "  </tbody>\n",
       "</table>\n",
       "</div>"
      ],
      "text/plain": [
       "       key_0       Date       Open       High        Low      Close  \\\n",
       "0 2005-01-03 2005-01-03  65.095001  65.209999  63.570000  63.910000   \n",
       "1 2005-01-04 2005-01-04  64.035004  64.084999  62.430000  62.540001   \n",
       "2 2005-01-05 2005-01-05  62.470001  62.639999  61.290001  61.290001   \n",
       "3 2005-01-06 2005-01-06  61.669998  62.200001  61.224998  61.615002   \n",
       "4 2005-01-07 2005-01-07  61.755001  61.950001  60.895000  60.930000   \n",
       "\n",
       "   Adj Close      Volume publish_date        headline_category  \\\n",
       "0  50.853107  16062600.0   2005-01-03  business.india-business   \n",
       "1  49.762993  27450000.0   2005-01-04  business.india-business   \n",
       "2  48.768360  29884200.0   2005-01-05  business.india-business   \n",
       "3  49.026966  23061200.0   2005-01-06  business.india-business   \n",
       "4  48.481922  20906200.0   2005-01-07  business.india-business   \n",
       "\n",
       "                                       headline_text    Result  \n",
       "0  sensex closes at new high of        separate p...  positive  \n",
       "1  sensex will breach      level in       major c...  positive  \n",
       "2           low support from fii led to sensex crash   neutral  \n",
       "3  adc slashed  cell tariffs to fall  govt s help...   neutral  \n",
       "4  may    sensex crash  fm for revealing names  s...   neutral  "
      ]
     },
     "execution_count": 53,
     "metadata": {},
     "output_type": "execute_result"
    }
   ],
   "source": [
    "hybrid_data.head()"
   ]
  },
  {
   "cell_type": "code",
   "execution_count": 54,
   "id": "2790c5f7",
   "metadata": {},
   "outputs": [
    {
     "data": {
      "text/html": [
       "<div>\n",
       "<style scoped>\n",
       "    .dataframe tbody tr th:only-of-type {\n",
       "        vertical-align: middle;\n",
       "    }\n",
       "\n",
       "    .dataframe tbody tr th {\n",
       "        vertical-align: top;\n",
       "    }\n",
       "\n",
       "    .dataframe thead th {\n",
       "        text-align: right;\n",
       "    }\n",
       "</style>\n",
       "<table border=\"1\" class=\"dataframe\">\n",
       "  <thead>\n",
       "    <tr style=\"text-align: right;\">\n",
       "      <th></th>\n",
       "      <th>key_0</th>\n",
       "      <th>Date</th>\n",
       "      <th>Open</th>\n",
       "      <th>High</th>\n",
       "      <th>Low</th>\n",
       "      <th>Close</th>\n",
       "      <th>Adj Close</th>\n",
       "      <th>Volume</th>\n",
       "      <th>publish_date</th>\n",
       "      <th>headline_category</th>\n",
       "      <th>headline_text</th>\n",
       "      <th>Result</th>\n",
       "      <th>neutral</th>\n",
       "      <th>positive</th>\n",
       "    </tr>\n",
       "  </thead>\n",
       "  <tbody>\n",
       "    <tr>\n",
       "      <th>0</th>\n",
       "      <td>2005-01-03</td>\n",
       "      <td>2005-01-03</td>\n",
       "      <td>65.095001</td>\n",
       "      <td>65.209999</td>\n",
       "      <td>63.570000</td>\n",
       "      <td>63.910000</td>\n",
       "      <td>50.853107</td>\n",
       "      <td>16062600.0</td>\n",
       "      <td>2005-01-03</td>\n",
       "      <td>business.india-business</td>\n",
       "      <td>sensex closes at new high of        separate p...</td>\n",
       "      <td>positive</td>\n",
       "      <td>0</td>\n",
       "      <td>1</td>\n",
       "    </tr>\n",
       "    <tr>\n",
       "      <th>1</th>\n",
       "      <td>2005-01-04</td>\n",
       "      <td>2005-01-04</td>\n",
       "      <td>64.035004</td>\n",
       "      <td>64.084999</td>\n",
       "      <td>62.430000</td>\n",
       "      <td>62.540001</td>\n",
       "      <td>49.762993</td>\n",
       "      <td>27450000.0</td>\n",
       "      <td>2005-01-04</td>\n",
       "      <td>business.india-business</td>\n",
       "      <td>sensex will breach      level in       major c...</td>\n",
       "      <td>positive</td>\n",
       "      <td>0</td>\n",
       "      <td>1</td>\n",
       "    </tr>\n",
       "    <tr>\n",
       "      <th>2</th>\n",
       "      <td>2005-01-05</td>\n",
       "      <td>2005-01-05</td>\n",
       "      <td>62.470001</td>\n",
       "      <td>62.639999</td>\n",
       "      <td>61.290001</td>\n",
       "      <td>61.290001</td>\n",
       "      <td>48.768360</td>\n",
       "      <td>29884200.0</td>\n",
       "      <td>2005-01-05</td>\n",
       "      <td>business.india-business</td>\n",
       "      <td>low support from fii led to sensex crash</td>\n",
       "      <td>neutral</td>\n",
       "      <td>1</td>\n",
       "      <td>0</td>\n",
       "    </tr>\n",
       "    <tr>\n",
       "      <th>3</th>\n",
       "      <td>2005-01-06</td>\n",
       "      <td>2005-01-06</td>\n",
       "      <td>61.669998</td>\n",
       "      <td>62.200001</td>\n",
       "      <td>61.224998</td>\n",
       "      <td>61.615002</td>\n",
       "      <td>49.026966</td>\n",
       "      <td>23061200.0</td>\n",
       "      <td>2005-01-06</td>\n",
       "      <td>business.india-business</td>\n",
       "      <td>adc slashed  cell tariffs to fall  govt s help...</td>\n",
       "      <td>neutral</td>\n",
       "      <td>1</td>\n",
       "      <td>0</td>\n",
       "    </tr>\n",
       "    <tr>\n",
       "      <th>4</th>\n",
       "      <td>2005-01-07</td>\n",
       "      <td>2005-01-07</td>\n",
       "      <td>61.755001</td>\n",
       "      <td>61.950001</td>\n",
       "      <td>60.895000</td>\n",
       "      <td>60.930000</td>\n",
       "      <td>48.481922</td>\n",
       "      <td>20906200.0</td>\n",
       "      <td>2005-01-07</td>\n",
       "      <td>business.india-business</td>\n",
       "      <td>may    sensex crash  fm for revealing names  s...</td>\n",
       "      <td>neutral</td>\n",
       "      <td>1</td>\n",
       "      <td>0</td>\n",
       "    </tr>\n",
       "  </tbody>\n",
       "</table>\n",
       "</div>"
      ],
      "text/plain": [
       "       key_0       Date       Open       High        Low      Close  \\\n",
       "0 2005-01-03 2005-01-03  65.095001  65.209999  63.570000  63.910000   \n",
       "1 2005-01-04 2005-01-04  64.035004  64.084999  62.430000  62.540001   \n",
       "2 2005-01-05 2005-01-05  62.470001  62.639999  61.290001  61.290001   \n",
       "3 2005-01-06 2005-01-06  61.669998  62.200001  61.224998  61.615002   \n",
       "4 2005-01-07 2005-01-07  61.755001  61.950001  60.895000  60.930000   \n",
       "\n",
       "   Adj Close      Volume publish_date        headline_category  \\\n",
       "0  50.853107  16062600.0   2005-01-03  business.india-business   \n",
       "1  49.762993  27450000.0   2005-01-04  business.india-business   \n",
       "2  48.768360  29884200.0   2005-01-05  business.india-business   \n",
       "3  49.026966  23061200.0   2005-01-06  business.india-business   \n",
       "4  48.481922  20906200.0   2005-01-07  business.india-business   \n",
       "\n",
       "                                       headline_text    Result  neutral  \\\n",
       "0  sensex closes at new high of        separate p...  positive        0   \n",
       "1  sensex will breach      level in       major c...  positive        0   \n",
       "2           low support from fii led to sensex crash   neutral        1   \n",
       "3  adc slashed  cell tariffs to fall  govt s help...   neutral        1   \n",
       "4  may    sensex crash  fm for revealing names  s...   neutral        1   \n",
       "\n",
       "   positive  \n",
       "0         1  \n",
       "1         1  \n",
       "2         0  \n",
       "3         0  \n",
       "4         0  "
      ]
     },
     "execution_count": 54,
     "metadata": {},
     "output_type": "execute_result"
    }
   ],
   "source": [
    "senti_data = pd.get_dummies(hybrid_data['Result'],drop_first=True)\n",
    "\n",
    "hybrid_data = pd.concat([hybrid_data,senti_data],axis=1)\n",
    "\n",
    "hybrid_data.head()"
   ]
  },
  {
   "cell_type": "markdown",
   "id": "ab043732",
   "metadata": {},
   "source": [
    "### Adding subjectivity and polarity Scores to Textual Data"
   ]
  },
  {
   "cell_type": "code",
   "execution_count": 55,
   "id": "d685ba14",
   "metadata": {},
   "outputs": [],
   "source": [
    "# Functions to get the subjectivity and polarity\n",
    "def getSubjectivity(txt):\n",
    "    return TextBlob(str(txt)).sentiment.subjectivity\n",
    "\n",
    "def getPolarity(txt):\n",
    "    return  TextBlob(str(txt)).sentiment.polarity"
   ]
  },
  {
   "cell_type": "code",
   "execution_count": 56,
   "id": "d70c0bef",
   "metadata": {},
   "outputs": [
    {
     "data": {
      "text/html": [
       "<div>\n",
       "<style scoped>\n",
       "    .dataframe tbody tr th:only-of-type {\n",
       "        vertical-align: middle;\n",
       "    }\n",
       "\n",
       "    .dataframe tbody tr th {\n",
       "        vertical-align: top;\n",
       "    }\n",
       "\n",
       "    .dataframe thead th {\n",
       "        text-align: right;\n",
       "    }\n",
       "</style>\n",
       "<table border=\"1\" class=\"dataframe\">\n",
       "  <thead>\n",
       "    <tr style=\"text-align: right;\">\n",
       "      <th></th>\n",
       "      <th>key_0</th>\n",
       "      <th>Date</th>\n",
       "      <th>Open</th>\n",
       "      <th>High</th>\n",
       "      <th>Low</th>\n",
       "      <th>Close</th>\n",
       "      <th>Adj Close</th>\n",
       "      <th>Volume</th>\n",
       "      <th>publish_date</th>\n",
       "      <th>headline_category</th>\n",
       "      <th>headline_text</th>\n",
       "      <th>Result</th>\n",
       "      <th>neutral</th>\n",
       "      <th>positive</th>\n",
       "      <th>Subjectivity</th>\n",
       "      <th>Polarity</th>\n",
       "    </tr>\n",
       "  </thead>\n",
       "  <tbody>\n",
       "    <tr>\n",
       "      <th>0</th>\n",
       "      <td>2005-01-03</td>\n",
       "      <td>2005-01-03</td>\n",
       "      <td>65.095001</td>\n",
       "      <td>65.209999</td>\n",
       "      <td>63.570000</td>\n",
       "      <td>63.910000</td>\n",
       "      <td>50.853107</td>\n",
       "      <td>16062600.0</td>\n",
       "      <td>2005-01-03</td>\n",
       "      <td>business.india-business</td>\n",
       "      <td>sensex closes at new high of        separate p...</td>\n",
       "      <td>positive</td>\n",
       "      <td>0</td>\n",
       "      <td>1</td>\n",
       "      <td>0.359053</td>\n",
       "      <td>0.074091</td>\n",
       "    </tr>\n",
       "    <tr>\n",
       "      <th>1</th>\n",
       "      <td>2005-01-04</td>\n",
       "      <td>2005-01-04</td>\n",
       "      <td>64.035004</td>\n",
       "      <td>64.084999</td>\n",
       "      <td>62.430000</td>\n",
       "      <td>62.540001</td>\n",
       "      <td>49.762993</td>\n",
       "      <td>27450000.0</td>\n",
       "      <td>2005-01-04</td>\n",
       "      <td>business.india-business</td>\n",
       "      <td>sensex will breach      level in       major c...</td>\n",
       "      <td>positive</td>\n",
       "      <td>0</td>\n",
       "      <td>1</td>\n",
       "      <td>0.700000</td>\n",
       "      <td>0.431250</td>\n",
       "    </tr>\n",
       "    <tr>\n",
       "      <th>2</th>\n",
       "      <td>2005-01-05</td>\n",
       "      <td>2005-01-05</td>\n",
       "      <td>62.470001</td>\n",
       "      <td>62.639999</td>\n",
       "      <td>61.290001</td>\n",
       "      <td>61.290001</td>\n",
       "      <td>48.768360</td>\n",
       "      <td>29884200.0</td>\n",
       "      <td>2005-01-05</td>\n",
       "      <td>business.india-business</td>\n",
       "      <td>low support from fii led to sensex crash</td>\n",
       "      <td>neutral</td>\n",
       "      <td>1</td>\n",
       "      <td>0</td>\n",
       "      <td>0.300000</td>\n",
       "      <td>0.000000</td>\n",
       "    </tr>\n",
       "    <tr>\n",
       "      <th>3</th>\n",
       "      <td>2005-01-06</td>\n",
       "      <td>2005-01-06</td>\n",
       "      <td>61.669998</td>\n",
       "      <td>62.200001</td>\n",
       "      <td>61.224998</td>\n",
       "      <td>61.615002</td>\n",
       "      <td>49.026966</td>\n",
       "      <td>23061200.0</td>\n",
       "      <td>2005-01-06</td>\n",
       "      <td>business.india-business</td>\n",
       "      <td>adc slashed  cell tariffs to fall  govt s help...</td>\n",
       "      <td>neutral</td>\n",
       "      <td>1</td>\n",
       "      <td>0</td>\n",
       "      <td>0.000000</td>\n",
       "      <td>0.000000</td>\n",
       "    </tr>\n",
       "    <tr>\n",
       "      <th>4</th>\n",
       "      <td>2005-01-07</td>\n",
       "      <td>2005-01-07</td>\n",
       "      <td>61.755001</td>\n",
       "      <td>61.950001</td>\n",
       "      <td>60.895000</td>\n",
       "      <td>60.930000</td>\n",
       "      <td>48.481922</td>\n",
       "      <td>20906200.0</td>\n",
       "      <td>2005-01-07</td>\n",
       "      <td>business.india-business</td>\n",
       "      <td>may    sensex crash  fm for revealing names  s...</td>\n",
       "      <td>neutral</td>\n",
       "      <td>1</td>\n",
       "      <td>0</td>\n",
       "      <td>0.000000</td>\n",
       "      <td>0.000000</td>\n",
       "    </tr>\n",
       "  </tbody>\n",
       "</table>\n",
       "</div>"
      ],
      "text/plain": [
       "       key_0       Date       Open       High        Low      Close  \\\n",
       "0 2005-01-03 2005-01-03  65.095001  65.209999  63.570000  63.910000   \n",
       "1 2005-01-04 2005-01-04  64.035004  64.084999  62.430000  62.540001   \n",
       "2 2005-01-05 2005-01-05  62.470001  62.639999  61.290001  61.290001   \n",
       "3 2005-01-06 2005-01-06  61.669998  62.200001  61.224998  61.615002   \n",
       "4 2005-01-07 2005-01-07  61.755001  61.950001  60.895000  60.930000   \n",
       "\n",
       "   Adj Close      Volume publish_date        headline_category  \\\n",
       "0  50.853107  16062600.0   2005-01-03  business.india-business   \n",
       "1  49.762993  27450000.0   2005-01-04  business.india-business   \n",
       "2  48.768360  29884200.0   2005-01-05  business.india-business   \n",
       "3  49.026966  23061200.0   2005-01-06  business.india-business   \n",
       "4  48.481922  20906200.0   2005-01-07  business.india-business   \n",
       "\n",
       "                                       headline_text    Result  neutral  \\\n",
       "0  sensex closes at new high of        separate p...  positive        0   \n",
       "1  sensex will breach      level in       major c...  positive        0   \n",
       "2           low support from fii led to sensex crash   neutral        1   \n",
       "3  adc slashed  cell tariffs to fall  govt s help...   neutral        1   \n",
       "4  may    sensex crash  fm for revealing names  s...   neutral        1   \n",
       "\n",
       "   positive  Subjectivity  Polarity  \n",
       "0         1      0.359053  0.074091  \n",
       "1         1      0.700000  0.431250  \n",
       "2         0      0.300000  0.000000  \n",
       "3         0      0.000000  0.000000  \n",
       "4         0      0.000000  0.000000  "
      ]
     },
     "execution_count": 56,
     "metadata": {},
     "output_type": "execute_result"
    }
   ],
   "source": [
    "#Adding subjectivity and polarity columns\n",
    "hybrid_data['Subjectivity'] = hybrid_data['headline_text'].apply(lambda x : getSubjectivity(x))\n",
    "hybrid_data['Polarity'] = hybrid_data['headline_text'].apply(lambda x : getPolarity(x))\n",
    "hybrid_data.head()"
   ]
  },
  {
   "cell_type": "markdown",
   "id": "9940c92c",
   "metadata": {},
   "source": [
    "### Visualizing the polarity and Subjectivity scores"
   ]
  },
  {
   "cell_type": "code",
   "execution_count": 57,
   "id": "6c9a4fc9",
   "metadata": {},
   "outputs": [
    {
     "data": {
      "text/plain": [
       "<AxesSubplot:title={'center':'News Polarity'}>"
      ]
     },
     "execution_count": 57,
     "metadata": {},
     "output_type": "execute_result"
    },
    {
     "data": {
      "image/png": "[encoded data removed]",
      "text/plain": [
       "<Figure size 720x432 with 1 Axes>"
      ]
     },
     "metadata": {
      "needs_background": "light"
     },
     "output_type": "display_data"
    }
   ],
   "source": [
    "plt.figure(figsize = (10,6))\n",
    "plt.title('News Polarity')\n",
    "hybrid_data['Polarity'].hist()"
   ]
  },
  {
   "cell_type": "code",
   "execution_count": 58,
   "id": "ff8807da",
   "metadata": {},
   "outputs": [
    {
     "data": {
      "text/plain": [
       "<AxesSubplot:title={'center':'News Subjectivity'}>"
      ]
     },
     "execution_count": 58,
     "metadata": {},
     "output_type": "execute_result"
    },
    {
     "data": {
      "image/png": "[encoded data removed]",
      "text/plain": [
       "<Figure size 720x432 with 1 Axes>"
      ]
     },
     "metadata": {
      "needs_background": "light"
     },
     "output_type": "display_data"
    }
   ],
   "source": [
    "plt.figure(figsize = (10,6))\n",
    "plt.title('News Subjectivity')\n",
    "hybrid_data['Subjectivity'].hist()"
   ]
  },
  {
   "cell_type": "markdown",
   "id": "edc3b620",
   "metadata": {},
   "source": [
    "### Performing Sentiment Analysis over Headlines of Hybrid Data"
   ]
  },
  {
   "cell_type": "code",
   "execution_count": 59,
   "id": "407257c6",
   "metadata": {},
   "outputs": [],
   "source": [
    "from vaderSentiment.vaderSentiment import SentimentIntensityAnalyzer"
   ]
  },
  {
   "cell_type": "code",
   "execution_count": 60,
   "id": "29ce5797",
   "metadata": {},
   "outputs": [
    {
     "data": {
      "text/html": [
       "<div>\n",
       "<style scoped>\n",
       "    .dataframe tbody tr th:only-of-type {\n",
       "        vertical-align: middle;\n",
       "    }\n",
       "\n",
       "    .dataframe tbody tr th {\n",
       "        vertical-align: top;\n",
       "    }\n",
       "\n",
       "    .dataframe thead th {\n",
       "        text-align: right;\n",
       "    }\n",
       "</style>\n",
       "<table border=\"1\" class=\"dataframe\">\n",
       "  <thead>\n",
       "    <tr style=\"text-align: right;\">\n",
       "      <th></th>\n",
       "      <th>key_0</th>\n",
       "      <th>Date</th>\n",
       "      <th>Open</th>\n",
       "      <th>High</th>\n",
       "      <th>Low</th>\n",
       "      <th>Close</th>\n",
       "      <th>Adj Close</th>\n",
       "      <th>Volume</th>\n",
       "      <th>publish_date</th>\n",
       "      <th>headline_category</th>\n",
       "      <th>headline_text</th>\n",
       "      <th>Result</th>\n",
       "      <th>neutral</th>\n",
       "      <th>positive</th>\n",
       "      <th>Subjectivity</th>\n",
       "      <th>Polarity</th>\n",
       "      <th>Compound</th>\n",
       "      <th>Negative</th>\n",
       "      <th>Neutral</th>\n",
       "      <th>Positive</th>\n",
       "    </tr>\n",
       "  </thead>\n",
       "  <tbody>\n",
       "    <tr>\n",
       "      <th>0</th>\n",
       "      <td>2005-01-03</td>\n",
       "      <td>2005-01-03</td>\n",
       "      <td>65.095001</td>\n",
       "      <td>65.209999</td>\n",
       "      <td>63.570000</td>\n",
       "      <td>63.910000</td>\n",
       "      <td>50.853107</td>\n",
       "      <td>16062600.0</td>\n",
       "      <td>2005-01-03</td>\n",
       "      <td>business.india-business</td>\n",
       "      <td>sensex closes at new high of        separate p...</td>\n",
       "      <td>positive</td>\n",
       "      <td>0</td>\n",
       "      <td>1</td>\n",
       "      <td>0.359053</td>\n",
       "      <td>0.074091</td>\n",
       "      <td>0.0000</td>\n",
       "      <td>0.000</td>\n",
       "      <td>1.000</td>\n",
       "      <td>0.000</td>\n",
       "    </tr>\n",
       "    <tr>\n",
       "      <th>1</th>\n",
       "      <td>2005-01-04</td>\n",
       "      <td>2005-01-04</td>\n",
       "      <td>64.035004</td>\n",
       "      <td>64.084999</td>\n",
       "      <td>62.430000</td>\n",
       "      <td>62.540001</td>\n",
       "      <td>49.762993</td>\n",
       "      <td>27450000.0</td>\n",
       "      <td>2005-01-04</td>\n",
       "      <td>business.india-business</td>\n",
       "      <td>sensex will breach      level in       major c...</td>\n",
       "      <td>positive</td>\n",
       "      <td>0</td>\n",
       "      <td>1</td>\n",
       "      <td>0.700000</td>\n",
       "      <td>0.431250</td>\n",
       "      <td>0.0000</td>\n",
       "      <td>0.000</td>\n",
       "      <td>1.000</td>\n",
       "      <td>0.000</td>\n",
       "    </tr>\n",
       "    <tr>\n",
       "      <th>2</th>\n",
       "      <td>2005-01-05</td>\n",
       "      <td>2005-01-05</td>\n",
       "      <td>62.470001</td>\n",
       "      <td>62.639999</td>\n",
       "      <td>61.290001</td>\n",
       "      <td>61.290001</td>\n",
       "      <td>48.768360</td>\n",
       "      <td>29884200.0</td>\n",
       "      <td>2005-01-05</td>\n",
       "      <td>business.india-business</td>\n",
       "      <td>low support from fii led to sensex crash</td>\n",
       "      <td>neutral</td>\n",
       "      <td>1</td>\n",
       "      <td>0</td>\n",
       "      <td>0.300000</td>\n",
       "      <td>0.000000</td>\n",
       "      <td>-0.2732</td>\n",
       "      <td>0.384</td>\n",
       "      <td>0.400</td>\n",
       "      <td>0.216</td>\n",
       "    </tr>\n",
       "    <tr>\n",
       "      <th>3</th>\n",
       "      <td>2005-01-06</td>\n",
       "      <td>2005-01-06</td>\n",
       "      <td>61.669998</td>\n",
       "      <td>62.200001</td>\n",
       "      <td>61.224998</td>\n",
       "      <td>61.615002</td>\n",
       "      <td>49.026966</td>\n",
       "      <td>23061200.0</td>\n",
       "      <td>2005-01-06</td>\n",
       "      <td>business.india-business</td>\n",
       "      <td>adc slashed  cell tariffs to fall  govt s help...</td>\n",
       "      <td>neutral</td>\n",
       "      <td>1</td>\n",
       "      <td>0</td>\n",
       "      <td>0.000000</td>\n",
       "      <td>0.000000</td>\n",
       "      <td>0.4215</td>\n",
       "      <td>0.097</td>\n",
       "      <td>0.749</td>\n",
       "      <td>0.154</td>\n",
       "    </tr>\n",
       "    <tr>\n",
       "      <th>4</th>\n",
       "      <td>2005-01-07</td>\n",
       "      <td>2005-01-07</td>\n",
       "      <td>61.755001</td>\n",
       "      <td>61.950001</td>\n",
       "      <td>60.895000</td>\n",
       "      <td>60.930000</td>\n",
       "      <td>48.481922</td>\n",
       "      <td>20906200.0</td>\n",
       "      <td>2005-01-07</td>\n",
       "      <td>business.india-business</td>\n",
       "      <td>may    sensex crash  fm for revealing names  s...</td>\n",
       "      <td>neutral</td>\n",
       "      <td>1</td>\n",
       "      <td>0</td>\n",
       "      <td>0.000000</td>\n",
       "      <td>0.000000</td>\n",
       "      <td>-0.4019</td>\n",
       "      <td>0.252</td>\n",
       "      <td>0.748</td>\n",
       "      <td>0.000</td>\n",
       "    </tr>\n",
       "  </tbody>\n",
       "</table>\n",
       "</div>"
      ],
      "text/plain": [
       "       key_0       Date       Open       High        Low      Close  \\\n",
       "0 2005-01-03 2005-01-03  65.095001  65.209999  63.570000  63.910000   \n",
       "1 2005-01-04 2005-01-04  64.035004  64.084999  62.430000  62.540001   \n",
       "2 2005-01-05 2005-01-05  62.470001  62.639999  61.290001  61.290001   \n",
       "3 2005-01-06 2005-01-06  61.669998  62.200001  61.224998  61.615002   \n",
       "4 2005-01-07 2005-01-07  61.755001  61.950001  60.895000  60.930000   \n",
       "\n",
       "   Adj Close      Volume publish_date        headline_category  \\\n",
       "0  50.853107  16062600.0   2005-01-03  business.india-business   \n",
       "1  49.762993  27450000.0   2005-01-04  business.india-business   \n",
       "2  48.768360  29884200.0   2005-01-05  business.india-business   \n",
       "3  49.026966  23061200.0   2005-01-06  business.india-business   \n",
       "4  48.481922  20906200.0   2005-01-07  business.india-business   \n",
       "\n",
       "                                       headline_text    Result  neutral  \\\n",
       "0  sensex closes at new high of        separate p...  positive        0   \n",
       "1  sensex will breach      level in       major c...  positive        0   \n",
       "2           low support from fii led to sensex crash   neutral        1   \n",
       "3  adc slashed  cell tariffs to fall  govt s help...   neutral        1   \n",
       "4  may    sensex crash  fm for revealing names  s...   neutral        1   \n",
       "\n",
       "   positive  Subjectivity  Polarity  Compound  Negative  Neutral  Positive  \n",
       "0         1      0.359053  0.074091    0.0000     0.000    1.000     0.000  \n",
       "1         1      0.700000  0.431250    0.0000     0.000    1.000     0.000  \n",
       "2         0      0.300000  0.000000   -0.2732     0.384    0.400     0.216  \n",
       "3         0      0.000000  0.000000    0.4215     0.097    0.749     0.154  \n",
       "4         0      0.000000  0.000000   -0.4019     0.252    0.748     0.000  "
      ]
     },
     "execution_count": 60,
     "metadata": {},
     "output_type": "execute_result"
    }
   ],
   "source": [
    "# Adding sentiment score to news\n",
    "senti_int_an = SentimentIntensityAnalyzer()\n",
    "\n",
    "hybrid_data['Compound'] = [senti_int_an.polarity_scores(str(v))['compound'] for v in hybrid_data['headline_text']]\n",
    "hybrid_data['Negative'] = [senti_int_an.polarity_scores(str(v))['neg'] for v in hybrid_data['headline_text']]\n",
    "hybrid_data['Neutral'] = [senti_int_an.polarity_scores(str(v))['neu'] for v in hybrid_data['headline_text']]\n",
    "hybrid_data['Positive'] = [senti_int_an.polarity_scores(str(v))['pos'] for v in hybrid_data['headline_text']]\n",
    "hybrid_data.head()"
   ]
  },
  {
   "cell_type": "code",
   "execution_count": 61,
   "id": "795c4941",
   "metadata": {},
   "outputs": [
    {
     "data": {
      "text/plain": [
       "Index(['key_0', 'Date', 'Open', 'High', 'Low', 'Close', 'Adj Close', 'Volume',\n",
       "       'publish_date', 'headline_category', 'headline_text', 'Result',\n",
       "       'neutral', 'positive', 'Subjectivity', 'Polarity', 'Compound',\n",
       "       'Negative', 'Neutral', 'Positive'],\n",
       "      dtype='object')"
      ]
     },
     "execution_count": 61,
     "metadata": {},
     "output_type": "execute_result"
    }
   ],
   "source": [
    "hybrid_data.columns"
   ]
  },
  {
   "cell_type": "code",
   "execution_count": 62,
   "id": "5003c33f",
   "metadata": {},
   "outputs": [],
   "source": [
    "new_hybrid = hybrid_data[[ 'Open',  'High', 'Low','Close','Volume','Compound', 'Negative', 'Neutral' ,'Positive','positive']]\n",
    "new_hybrid.reset_index(inplace = True)"
   ]
  },
  {
   "cell_type": "code",
   "execution_count": 63,
   "id": "f6099b25",
   "metadata": {},
   "outputs": [
    {
     "data": {
      "text/html": [
       "<div>\n",
       "<style scoped>\n",
       "    .dataframe tbody tr th:only-of-type {\n",
       "        vertical-align: middle;\n",
       "    }\n",
       "\n",
       "    .dataframe tbody tr th {\n",
       "        vertical-align: top;\n",
       "    }\n",
       "\n",
       "    .dataframe thead th {\n",
       "        text-align: right;\n",
       "    }\n",
       "</style>\n",
       "<table border=\"1\" class=\"dataframe\">\n",
       "  <thead>\n",
       "    <tr style=\"text-align: right;\">\n",
       "      <th></th>\n",
       "      <th>index</th>\n",
       "      <th>Open</th>\n",
       "      <th>High</th>\n",
       "      <th>Low</th>\n",
       "      <th>Close</th>\n",
       "      <th>Volume</th>\n",
       "      <th>Compound</th>\n",
       "      <th>Negative</th>\n",
       "      <th>Neutral</th>\n",
       "      <th>Positive</th>\n",
       "      <th>Label</th>\n",
       "    </tr>\n",
       "  </thead>\n",
       "  <tbody>\n",
       "    <tr>\n",
       "      <th>0</th>\n",
       "      <td>0</td>\n",
       "      <td>65.095001</td>\n",
       "      <td>65.209999</td>\n",
       "      <td>63.570000</td>\n",
       "      <td>63.910000</td>\n",
       "      <td>16062600.0</td>\n",
       "      <td>0.0000</td>\n",
       "      <td>0.000</td>\n",
       "      <td>1.000</td>\n",
       "      <td>0.000</td>\n",
       "      <td>1</td>\n",
       "    </tr>\n",
       "    <tr>\n",
       "      <th>1</th>\n",
       "      <td>1</td>\n",
       "      <td>64.035004</td>\n",
       "      <td>64.084999</td>\n",
       "      <td>62.430000</td>\n",
       "      <td>62.540001</td>\n",
       "      <td>27450000.0</td>\n",
       "      <td>0.0000</td>\n",
       "      <td>0.000</td>\n",
       "      <td>1.000</td>\n",
       "      <td>0.000</td>\n",
       "      <td>1</td>\n",
       "    </tr>\n",
       "    <tr>\n",
       "      <th>2</th>\n",
       "      <td>2</td>\n",
       "      <td>62.470001</td>\n",
       "      <td>62.639999</td>\n",
       "      <td>61.290001</td>\n",
       "      <td>61.290001</td>\n",
       "      <td>29884200.0</td>\n",
       "      <td>-0.2732</td>\n",
       "      <td>0.384</td>\n",
       "      <td>0.400</td>\n",
       "      <td>0.216</td>\n",
       "      <td>0</td>\n",
       "    </tr>\n",
       "    <tr>\n",
       "      <th>3</th>\n",
       "      <td>3</td>\n",
       "      <td>61.669998</td>\n",
       "      <td>62.200001</td>\n",
       "      <td>61.224998</td>\n",
       "      <td>61.615002</td>\n",
       "      <td>23061200.0</td>\n",
       "      <td>0.4215</td>\n",
       "      <td>0.097</td>\n",
       "      <td>0.749</td>\n",
       "      <td>0.154</td>\n",
       "      <td>0</td>\n",
       "    </tr>\n",
       "    <tr>\n",
       "      <th>4</th>\n",
       "      <td>4</td>\n",
       "      <td>61.755001</td>\n",
       "      <td>61.950001</td>\n",
       "      <td>60.895000</td>\n",
       "      <td>60.930000</td>\n",
       "      <td>20906200.0</td>\n",
       "      <td>-0.4019</td>\n",
       "      <td>0.252</td>\n",
       "      <td>0.748</td>\n",
       "      <td>0.000</td>\n",
       "      <td>0</td>\n",
       "    </tr>\n",
       "  </tbody>\n",
       "</table>\n",
       "</div>"
      ],
      "text/plain": [
       "   index       Open       High        Low      Close      Volume  Compound  \\\n",
       "0      0  65.095001  65.209999  63.570000  63.910000  16062600.0    0.0000   \n",
       "1      1  64.035004  64.084999  62.430000  62.540001  27450000.0    0.0000   \n",
       "2      2  62.470001  62.639999  61.290001  61.290001  29884200.0   -0.2732   \n",
       "3      3  61.669998  62.200001  61.224998  61.615002  23061200.0    0.4215   \n",
       "4      4  61.755001  61.950001  60.895000  60.930000  20906200.0   -0.4019   \n",
       "\n",
       "   Negative  Neutral  Positive  Label  \n",
       "0     0.000    1.000     0.000      1  \n",
       "1     0.000    1.000     0.000      1  \n",
       "2     0.384    0.400     0.216      0  \n",
       "3     0.097    0.749     0.154      0  \n",
       "4     0.252    0.748     0.000      0  "
      ]
     },
     "execution_count": 63,
     "metadata": {},
     "output_type": "execute_result"
    }
   ],
   "source": [
    "new_hybrid.rename(columns = {'positive':'Label'}, inplace = True)\n",
    "new_hybrid.head()"
   ]
  },
  {
   "cell_type": "code",
   "execution_count": 64,
   "id": "bb1a230b",
   "metadata": {},
   "outputs": [
    {
     "data": {
      "text/plain": [
       "(5800, 11)"
      ]
     },
     "execution_count": 64,
     "metadata": {},
     "output_type": "execute_result"
    }
   ],
   "source": [
    "new_hybrid.shape"
   ]
  },
  {
   "cell_type": "markdown",
   "id": "96b1e195",
   "metadata": {},
   "source": [
    "### Building Model"
   ]
  },
  {
   "cell_type": "code",
   "execution_count": 65,
   "id": "d02b7e38",
   "metadata": {},
   "outputs": [],
   "source": [
    "X = new_hybrid.drop('Label', axis=1)    \n",
    "y = new_hybrid['Label']"
   ]
  },
  {
   "cell_type": "code",
   "execution_count": 66,
   "id": "b495f66e",
   "metadata": {},
   "outputs": [],
   "source": [
    "X = X.fillna(X.mean())"
   ]
  },
  {
   "cell_type": "code",
   "execution_count": 67,
   "id": "b116f659",
   "metadata": {},
   "outputs": [],
   "source": [
    "from sklearn.model_selection import train_test_split\n",
    "\n",
    "x_train, x_test, y_train, y_test = train_test_split(X, y, test_size=0.2, random_state = 0)"
   ]
  },
  {
   "cell_type": "code",
   "execution_count": 68,
   "id": "5d6256b2",
   "metadata": {},
   "outputs": [
    {
     "data": {
      "text/plain": [
       "((4640, 10), (4640,))"
      ]
     },
     "execution_count": 68,
     "metadata": {},
     "output_type": "execute_result"
    }
   ],
   "source": [
    "x_train.shape , y_train.shape"
   ]
  },
  {
   "cell_type": "code",
   "execution_count": 69,
   "id": "1ec859d8",
   "metadata": {},
   "outputs": [
    {
     "data": {
      "text/plain": [
       "((1160, 10), (1160,))"
      ]
     },
     "execution_count": 69,
     "metadata": {},
     "output_type": "execute_result"
    }
   ],
   "source": [
    "x_test.shape , y_test.shape"
   ]
  },
  {
   "cell_type": "code",
   "execution_count": 70,
   "id": "ccd83485",
   "metadata": {},
   "outputs": [],
   "source": [
    "from sklearn.ensemble import RandomForestClassifier , GradientBoostingClassifier\n",
    "from sklearn.linear_model import LogisticRegression\n",
    "from sklearn.tree import DecisionTreeClassifier\n",
    "from sklearn.model_selection import GridSearchCV\n",
    "from sklearn.preprocessing import StandardScaler\n",
    "from sklearn.pipeline import Pipeline\n",
    "from sklearn.metrics import accuracy_score"
   ]
  },
  {
   "cell_type": "markdown",
   "id": "db0dd69f",
   "metadata": {},
   "source": [
    "### DecisionTreeClassifier"
   ]
  },
  {
   "cell_type": "code",
   "execution_count": 71,
   "id": "74993eb7",
   "metadata": {},
   "outputs": [
    {
     "name": "stdout",
     "output_type": "stream",
     "text": [
      "Accuracy: 67.07%\n",
      "Tuned Model Parameters: {'dt__criterion': 'entropy', 'dt__max_depth': 10, 'dt__max_features': 'log2', 'dt__min_samples_leaf': 0.1}\n"
     ]
    }
   ],
   "source": [
    "# Setup the pipeline\n",
    "steps = [('scaler',StandardScaler()),\n",
    "         ('dt',DecisionTreeClassifier())]\n",
    "\n",
    "pipeline = Pipeline(steps)\n",
    "\n",
    "# Specify the hyperparameter\n",
    "params = {'dt__criterion':['gini', 'entropy'],\n",
    "          'dt__max_depth':[4,6,8,10,12],\n",
    "          'dt__min_samples_leaf':[.1,.5,1,1.5],\n",
    "          'dt__max_features':['auto', 'sqrt', 'log2']}\n",
    "\n",
    "# Instantiate the GridSearchCV\n",
    "cv = GridSearchCV(pipeline,params,cv=3)\n",
    "\n",
    "# Fit to the training set\n",
    "cv.fit(x_train,y_train)\n",
    "\n",
    "# Predict the labels of the test set: y_pred\n",
    "y_pred = cv.predict(x_test)\n",
    "\n",
    "# Compute and print metrics\n",
    "print(\"Accuracy: {:.2f}%\".format(accuracy_score(y_test,y_pred)*100))\n",
    "print(\"Tuned Model Parameters: {}\".format(cv.best_params_))"
   ]
  },
  {
   "cell_type": "markdown",
   "id": "bf7e4435",
   "metadata": {},
   "source": [
    "### LogisticRegression"
   ]
  },
  {
   "cell_type": "code",
   "execution_count": 72,
   "id": "3342b650",
   "metadata": {},
   "outputs": [
    {
     "name": "stdout",
     "output_type": "stream",
     "text": [
      "Accuracy: 64.14%\n",
      "Tuned Model Parameters: {'log_reg__penalty': 'l2', 'log_reg__solver': 'lbfgs'}\n"
     ]
    }
   ],
   "source": [
    "# Setup the pipeline\n",
    "steps = [('scaler',StandardScaler()),\n",
    "         ('log_reg',LogisticRegression())]\n",
    "\n",
    "pipeline = Pipeline(steps)\n",
    "\n",
    "# Specify the hyperparameter\n",
    "params = {'log_reg__penalty':['l1', 'l2','elasticnet'],\n",
    "          'log_reg__solver':['lbfgs', 'liblinear']}\n",
    "\n",
    "# Instantiate the GridSearchCV\n",
    "cv = GridSearchCV(pipeline,params,cv=5)\n",
    "\n",
    "# Fit to the training set\n",
    "cv.fit(x_train,y_train)\n",
    "\n",
    "# Predict the labels of the test set: y_pred\n",
    "y_pred = cv.predict(x_test)\n",
    "\n",
    "# Compute and print metrics\n",
    "print(\"Accuracy: {:.2f}%\".format(accuracy_score(y_test,y_pred)*100))\n",
    "print(\"Tuned Model Parameters: {}\".format(cv.best_params_))"
   ]
  },
  {
   "cell_type": "markdown",
   "id": "8c495e4f",
   "metadata": {},
   "source": [
    "### RandomForestClassifier"
   ]
  },
  {
   "cell_type": "code",
   "execution_count": 73,
   "id": "1f6d7c51",
   "metadata": {},
   "outputs": [
    {
     "name": "stdout",
     "output_type": "stream",
     "text": [
      "Accuracy: 70.69%\n",
      "Tuned Model Parameters: {'rnd__criterion': 'gini', 'rnd__max_depth': 7, 'rnd__max_features': 'sqrt', 'rnd__n_estimators': 200}\n"
     ]
    }
   ],
   "source": [
    "# Setup the pipeline\n",
    "steps = [('scaler', StandardScaler()),\n",
    "         ('rnd', RandomForestClassifier())]\n",
    "\n",
    "pipeline = Pipeline(steps)\n",
    "\n",
    "# Specify the hyperparameter\n",
    "parameters = {'rnd__criterion' :['gini','entropy'],\n",
    "              'rnd__n_estimators':[100,200,300],\n",
    "              'rnd__max_depth':range(2,12),\n",
    "              'rnd__max_features':['auto', 'sqrt', 'log2']}\n",
    "\n",
    "# Instantiate the GridSearchCV\n",
    "cv = GridSearchCV(pipeline,parameters,cv=3)\n",
    "\n",
    "# Fit to the training set\n",
    "cv.fit(x_train,y_train)\n",
    "\n",
    "# Predict the labels of the test set: y_pred\n",
    "y_pred = cv.predict(x_test)\n",
    "\n",
    "# Compute and print metrics\n",
    "print(\"Accuracy: {:.2f}%\".format(accuracy_score(y_test,y_pred)*100))\n",
    "print(\"Tuned Model Parameters: {}\".format(cv.best_params_))"
   ]
  },
  {
   "cell_type": "markdown",
   "id": "d08ccc2a",
   "metadata": {},
   "source": [
    "### GradientBoostingClassifier"
   ]
  },
  {
   "cell_type": "code",
   "execution_count": 74,
   "id": "84e373d8",
   "metadata": {},
   "outputs": [
    {
     "ename": "KeyboardInterrupt",
     "evalue": "",
     "output_type": "error",
     "traceback": [
      "\u001b[1;31m---------------------------------------------------------------------------\u001b[0m",
      "\u001b[1;31mKeyboardInterrupt\u001b[0m                         Traceback (most recent call last)",
      "\u001b[1;32m<ipython-input-74-20f055c24a55>\u001b[0m in \u001b[0;36m<module>\u001b[1;34m\u001b[0m\n\u001b[0;32m     14\u001b[0m \u001b[1;33m\u001b[0m\u001b[0m\n\u001b[0;32m     15\u001b[0m \u001b[1;31m# Fit to the training set\u001b[0m\u001b[1;33m\u001b[0m\u001b[1;33m\u001b[0m\u001b[1;33m\u001b[0m\u001b[0m\n\u001b[1;32m---> 16\u001b[1;33m \u001b[0mcv\u001b[0m\u001b[1;33m.\u001b[0m\u001b[0mfit\u001b[0m\u001b[1;33m(\u001b[0m\u001b[0mx_train\u001b[0m\u001b[1;33m,\u001b[0m\u001b[0my_train\u001b[0m\u001b[1;33m)\u001b[0m\u001b[1;33m\u001b[0m\u001b[1;33m\u001b[0m\u001b[0m\n\u001b[0m\u001b[0;32m     17\u001b[0m \u001b[1;33m\u001b[0m\u001b[0m\n\u001b[0;32m     18\u001b[0m \u001b[1;31m# Predict the labels of the test set: y_pred\u001b[0m\u001b[1;33m\u001b[0m\u001b[1;33m\u001b[0m\u001b[1;33m\u001b[0m\u001b[0m\n",
      "\u001b[1;32m~\\anaconda3\\lib\\site-packages\\sklearn\\utils\\validation.py\u001b[0m in \u001b[0;36minner_f\u001b[1;34m(*args, **kwargs)\u001b[0m\n\u001b[0;32m     71\u001b[0m                           FutureWarning)\n\u001b[0;32m     72\u001b[0m         \u001b[0mkwargs\u001b[0m\u001b[1;33m.\u001b[0m\u001b[0mupdate\u001b[0m\u001b[1;33m(\u001b[0m\u001b[1;33m{\u001b[0m\u001b[0mk\u001b[0m\u001b[1;33m:\u001b[0m \u001b[0marg\u001b[0m \u001b[1;32mfor\u001b[0m \u001b[0mk\u001b[0m\u001b[1;33m,\u001b[0m \u001b[0marg\u001b[0m \u001b[1;32min\u001b[0m \u001b[0mzip\u001b[0m\u001b[1;33m(\u001b[0m\u001b[0msig\u001b[0m\u001b[1;33m.\u001b[0m\u001b[0mparameters\u001b[0m\u001b[1;33m,\u001b[0m \u001b[0margs\u001b[0m\u001b[1;33m)\u001b[0m\u001b[1;33m}\u001b[0m\u001b[1;33m)\u001b[0m\u001b[1;33m\u001b[0m\u001b[1;33m\u001b[0m\u001b[0m\n\u001b[1;32m---> 73\u001b[1;33m         \u001b[1;32mreturn\u001b[0m \u001b[0mf\u001b[0m\u001b[1;33m(\u001b[0m\u001b[1;33m**\u001b[0m\u001b[0mkwargs\u001b[0m\u001b[1;33m)\u001b[0m\u001b[1;33m\u001b[0m\u001b[1;33m\u001b[0m\u001b[0m\n\u001b[0m\u001b[0;32m     74\u001b[0m     \u001b[1;32mreturn\u001b[0m \u001b[0minner_f\u001b[0m\u001b[1;33m\u001b[0m\u001b[1;33m\u001b[0m\u001b[0m\n\u001b[0;32m     75\u001b[0m \u001b[1;33m\u001b[0m\u001b[0m\n",
      "\u001b[1;32m~\\anaconda3\\lib\\site-packages\\sklearn\\model_selection\\_search.py\u001b[0m in \u001b[0;36mfit\u001b[1;34m(self, X, y, groups, **fit_params)\u001b[0m\n\u001b[0;32m    734\u001b[0m                 \u001b[1;32mreturn\u001b[0m \u001b[0mresults\u001b[0m\u001b[1;33m\u001b[0m\u001b[1;33m\u001b[0m\u001b[0m\n\u001b[0;32m    735\u001b[0m \u001b[1;33m\u001b[0m\u001b[0m\n\u001b[1;32m--> 736\u001b[1;33m             \u001b[0mself\u001b[0m\u001b[1;33m.\u001b[0m\u001b[0m_run_search\u001b[0m\u001b[1;33m(\u001b[0m\u001b[0mevaluate_candidates\u001b[0m\u001b[1;33m)\u001b[0m\u001b[1;33m\u001b[0m\u001b[1;33m\u001b[0m\u001b[0m\n\u001b[0m\u001b[0;32m    737\u001b[0m \u001b[1;33m\u001b[0m\u001b[0m\n\u001b[0;32m    738\u001b[0m         \u001b[1;31m# For multi-metric evaluation, store the best_index_, best_params_ and\u001b[0m\u001b[1;33m\u001b[0m\u001b[1;33m\u001b[0m\u001b[1;33m\u001b[0m\u001b[0m\n",
      "\u001b[1;32m~\\anaconda3\\lib\\site-packages\\sklearn\\model_selection\\_search.py\u001b[0m in \u001b[0;36m_run_search\u001b[1;34m(self, evaluate_candidates)\u001b[0m\n\u001b[0;32m   1186\u001b[0m     \u001b[1;32mdef\u001b[0m \u001b[0m_run_search\u001b[0m\u001b[1;33m(\u001b[0m\u001b[0mself\u001b[0m\u001b[1;33m,\u001b[0m \u001b[0mevaluate_candidates\u001b[0m\u001b[1;33m)\u001b[0m\u001b[1;33m:\u001b[0m\u001b[1;33m\u001b[0m\u001b[1;33m\u001b[0m\u001b[0m\n\u001b[0;32m   1187\u001b[0m         \u001b[1;34m\"\"\"Search all candidates in param_grid\"\"\"\u001b[0m\u001b[1;33m\u001b[0m\u001b[1;33m\u001b[0m\u001b[0m\n\u001b[1;32m-> 1188\u001b[1;33m         \u001b[0mevaluate_candidates\u001b[0m\u001b[1;33m(\u001b[0m\u001b[0mParameterGrid\u001b[0m\u001b[1;33m(\u001b[0m\u001b[0mself\u001b[0m\u001b[1;33m.\u001b[0m\u001b[0mparam_grid\u001b[0m\u001b[1;33m)\u001b[0m\u001b[1;33m)\u001b[0m\u001b[1;33m\u001b[0m\u001b[1;33m\u001b[0m\u001b[0m\n\u001b[0m\u001b[0;32m   1189\u001b[0m \u001b[1;33m\u001b[0m\u001b[0m\n\u001b[0;32m   1190\u001b[0m \u001b[1;33m\u001b[0m\u001b[0m\n",
      "\u001b[1;32m~\\anaconda3\\lib\\site-packages\\sklearn\\model_selection\\_search.py\u001b[0m in \u001b[0;36mevaluate_candidates\u001b[1;34m(candidate_params)\u001b[0m\n\u001b[0;32m    706\u001b[0m                               n_splits, n_candidates, n_candidates * n_splits))\n\u001b[0;32m    707\u001b[0m \u001b[1;33m\u001b[0m\u001b[0m\n\u001b[1;32m--> 708\u001b[1;33m                 out = parallel(delayed(_fit_and_score)(clone(base_estimator),\n\u001b[0m\u001b[0;32m    709\u001b[0m                                                        \u001b[0mX\u001b[0m\u001b[1;33m,\u001b[0m \u001b[0my\u001b[0m\u001b[1;33m,\u001b[0m\u001b[1;33m\u001b[0m\u001b[1;33m\u001b[0m\u001b[0m\n\u001b[0;32m    710\u001b[0m                                                        \u001b[0mtrain\u001b[0m\u001b[1;33m=\u001b[0m\u001b[0mtrain\u001b[0m\u001b[1;33m,\u001b[0m \u001b[0mtest\u001b[0m\u001b[1;33m=\u001b[0m\u001b[0mtest\u001b[0m\u001b[1;33m,\u001b[0m\u001b[1;33m\u001b[0m\u001b[1;33m\u001b[0m\u001b[0m\n",
      "\u001b[1;32m~\\anaconda3\\lib\\site-packages\\joblib\\parallel.py\u001b[0m in \u001b[0;36m__call__\u001b[1;34m(self, iterable)\u001b[0m\n\u001b[0;32m   1042\u001b[0m                 \u001b[0mself\u001b[0m\u001b[1;33m.\u001b[0m\u001b[0m_iterating\u001b[0m \u001b[1;33m=\u001b[0m \u001b[0mself\u001b[0m\u001b[1;33m.\u001b[0m\u001b[0m_original_iterator\u001b[0m \u001b[1;32mis\u001b[0m \u001b[1;32mnot\u001b[0m \u001b[1;32mNone\u001b[0m\u001b[1;33m\u001b[0m\u001b[1;33m\u001b[0m\u001b[0m\n\u001b[0;32m   1043\u001b[0m \u001b[1;33m\u001b[0m\u001b[0m\n\u001b[1;32m-> 1044\u001b[1;33m             \u001b[1;32mwhile\u001b[0m \u001b[0mself\u001b[0m\u001b[1;33m.\u001b[0m\u001b[0mdispatch_one_batch\u001b[0m\u001b[1;33m(\u001b[0m\u001b[0miterator\u001b[0m\u001b[1;33m)\u001b[0m\u001b[1;33m:\u001b[0m\u001b[1;33m\u001b[0m\u001b[1;33m\u001b[0m\u001b[0m\n\u001b[0m\u001b[0;32m   1045\u001b[0m                 \u001b[1;32mpass\u001b[0m\u001b[1;33m\u001b[0m\u001b[1;33m\u001b[0m\u001b[0m\n\u001b[0;32m   1046\u001b[0m \u001b[1;33m\u001b[0m\u001b[0m\n",
      "\u001b[1;32m~\\anaconda3\\lib\\site-packages\\joblib\\parallel.py\u001b[0m in \u001b[0;36mdispatch_one_batch\u001b[1;34m(self, iterator)\u001b[0m\n\u001b[0;32m    857\u001b[0m                 \u001b[1;32mreturn\u001b[0m \u001b[1;32mFalse\u001b[0m\u001b[1;33m\u001b[0m\u001b[1;33m\u001b[0m\u001b[0m\n\u001b[0;32m    858\u001b[0m             \u001b[1;32melse\u001b[0m\u001b[1;33m:\u001b[0m\u001b[1;33m\u001b[0m\u001b[1;33m\u001b[0m\u001b[0m\n\u001b[1;32m--> 859\u001b[1;33m                 \u001b[0mself\u001b[0m\u001b[1;33m.\u001b[0m\u001b[0m_dispatch\u001b[0m\u001b[1;33m(\u001b[0m\u001b[0mtasks\u001b[0m\u001b[1;33m)\u001b[0m\u001b[1;33m\u001b[0m\u001b[1;33m\u001b[0m\u001b[0m\n\u001b[0m\u001b[0;32m    860\u001b[0m                 \u001b[1;32mreturn\u001b[0m \u001b[1;32mTrue\u001b[0m\u001b[1;33m\u001b[0m\u001b[1;33m\u001b[0m\u001b[0m\n\u001b[0;32m    861\u001b[0m \u001b[1;33m\u001b[0m\u001b[0m\n",
      "\u001b[1;32m~\\anaconda3\\lib\\site-packages\\joblib\\parallel.py\u001b[0m in \u001b[0;36m_dispatch\u001b[1;34m(self, batch)\u001b[0m\n\u001b[0;32m    775\u001b[0m         \u001b[1;32mwith\u001b[0m \u001b[0mself\u001b[0m\u001b[1;33m.\u001b[0m\u001b[0m_lock\u001b[0m\u001b[1;33m:\u001b[0m\u001b[1;33m\u001b[0m\u001b[1;33m\u001b[0m\u001b[0m\n\u001b[0;32m    776\u001b[0m             \u001b[0mjob_idx\u001b[0m \u001b[1;33m=\u001b[0m \u001b[0mlen\u001b[0m\u001b[1;33m(\u001b[0m\u001b[0mself\u001b[0m\u001b[1;33m.\u001b[0m\u001b[0m_jobs\u001b[0m\u001b[1;33m)\u001b[0m\u001b[1;33m\u001b[0m\u001b[1;33m\u001b[0m\u001b[0m\n\u001b[1;32m--> 777\u001b[1;33m             \u001b[0mjob\u001b[0m \u001b[1;33m=\u001b[0m \u001b[0mself\u001b[0m\u001b[1;33m.\u001b[0m\u001b[0m_backend\u001b[0m\u001b[1;33m.\u001b[0m\u001b[0mapply_async\u001b[0m\u001b[1;33m(\u001b[0m\u001b[0mbatch\u001b[0m\u001b[1;33m,\u001b[0m \u001b[0mcallback\u001b[0m\u001b[1;33m=\u001b[0m\u001b[0mcb\u001b[0m\u001b[1;33m)\u001b[0m\u001b[1;33m\u001b[0m\u001b[1;33m\u001b[0m\u001b[0m\n\u001b[0m\u001b[0;32m    778\u001b[0m             \u001b[1;31m# A job can complete so quickly than its callback is\u001b[0m\u001b[1;33m\u001b[0m\u001b[1;33m\u001b[0m\u001b[1;33m\u001b[0m\u001b[0m\n\u001b[0;32m    779\u001b[0m             \u001b[1;31m# called before we get here, causing self._jobs to\u001b[0m\u001b[1;33m\u001b[0m\u001b[1;33m\u001b[0m\u001b[1;33m\u001b[0m\u001b[0m\n",
      "\u001b[1;32m~\\anaconda3\\lib\\site-packages\\joblib\\_parallel_backends.py\u001b[0m in \u001b[0;36mapply_async\u001b[1;34m(self, func, callback)\u001b[0m\n\u001b[0;32m    206\u001b[0m     \u001b[1;32mdef\u001b[0m \u001b[0mapply_async\u001b[0m\u001b[1;33m(\u001b[0m\u001b[0mself\u001b[0m\u001b[1;33m,\u001b[0m \u001b[0mfunc\u001b[0m\u001b[1;33m,\u001b[0m \u001b[0mcallback\u001b[0m\u001b[1;33m=\u001b[0m\u001b[1;32mNone\u001b[0m\u001b[1;33m)\u001b[0m\u001b[1;33m:\u001b[0m\u001b[1;33m\u001b[0m\u001b[1;33m\u001b[0m\u001b[0m\n\u001b[0;32m    207\u001b[0m         \u001b[1;34m\"\"\"Schedule a func to be run\"\"\"\u001b[0m\u001b[1;33m\u001b[0m\u001b[1;33m\u001b[0m\u001b[0m\n\u001b[1;32m--> 208\u001b[1;33m         \u001b[0mresult\u001b[0m \u001b[1;33m=\u001b[0m \u001b[0mImmediateResult\u001b[0m\u001b[1;33m(\u001b[0m\u001b[0mfunc\u001b[0m\u001b[1;33m)\u001b[0m\u001b[1;33m\u001b[0m\u001b[1;33m\u001b[0m\u001b[0m\n\u001b[0m\u001b[0;32m    209\u001b[0m         \u001b[1;32mif\u001b[0m \u001b[0mcallback\u001b[0m\u001b[1;33m:\u001b[0m\u001b[1;33m\u001b[0m\u001b[1;33m\u001b[0m\u001b[0m\n\u001b[0;32m    210\u001b[0m             \u001b[0mcallback\u001b[0m\u001b[1;33m(\u001b[0m\u001b[0mresult\u001b[0m\u001b[1;33m)\u001b[0m\u001b[1;33m\u001b[0m\u001b[1;33m\u001b[0m\u001b[0m\n",
      "\u001b[1;32m~\\anaconda3\\lib\\site-packages\\joblib\\_parallel_backends.py\u001b[0m in \u001b[0;36m__init__\u001b[1;34m(self, batch)\u001b[0m\n\u001b[0;32m    570\u001b[0m         \u001b[1;31m# Don't delay the application, to avoid keeping the input\u001b[0m\u001b[1;33m\u001b[0m\u001b[1;33m\u001b[0m\u001b[1;33m\u001b[0m\u001b[0m\n\u001b[0;32m    571\u001b[0m         \u001b[1;31m# arguments in memory\u001b[0m\u001b[1;33m\u001b[0m\u001b[1;33m\u001b[0m\u001b[1;33m\u001b[0m\u001b[0m\n\u001b[1;32m--> 572\u001b[1;33m         \u001b[0mself\u001b[0m\u001b[1;33m.\u001b[0m\u001b[0mresults\u001b[0m \u001b[1;33m=\u001b[0m \u001b[0mbatch\u001b[0m\u001b[1;33m(\u001b[0m\u001b[1;33m)\u001b[0m\u001b[1;33m\u001b[0m\u001b[1;33m\u001b[0m\u001b[0m\n\u001b[0m\u001b[0;32m    573\u001b[0m \u001b[1;33m\u001b[0m\u001b[0m\n\u001b[0;32m    574\u001b[0m     \u001b[1;32mdef\u001b[0m \u001b[0mget\u001b[0m\u001b[1;33m(\u001b[0m\u001b[0mself\u001b[0m\u001b[1;33m)\u001b[0m\u001b[1;33m:\u001b[0m\u001b[1;33m\u001b[0m\u001b[1;33m\u001b[0m\u001b[0m\n",
      "\u001b[1;32m~\\anaconda3\\lib\\site-packages\\joblib\\parallel.py\u001b[0m in \u001b[0;36m__call__\u001b[1;34m(self)\u001b[0m\n\u001b[0;32m    260\u001b[0m         \u001b[1;31m# change the default number of processes to -1\u001b[0m\u001b[1;33m\u001b[0m\u001b[1;33m\u001b[0m\u001b[1;33m\u001b[0m\u001b[0m\n\u001b[0;32m    261\u001b[0m         \u001b[1;32mwith\u001b[0m \u001b[0mparallel_backend\u001b[0m\u001b[1;33m(\u001b[0m\u001b[0mself\u001b[0m\u001b[1;33m.\u001b[0m\u001b[0m_backend\u001b[0m\u001b[1;33m,\u001b[0m \u001b[0mn_jobs\u001b[0m\u001b[1;33m=\u001b[0m\u001b[0mself\u001b[0m\u001b[1;33m.\u001b[0m\u001b[0m_n_jobs\u001b[0m\u001b[1;33m)\u001b[0m\u001b[1;33m:\u001b[0m\u001b[1;33m\u001b[0m\u001b[1;33m\u001b[0m\u001b[0m\n\u001b[1;32m--> 262\u001b[1;33m             return [func(*args, **kwargs)\n\u001b[0m\u001b[0;32m    263\u001b[0m                     for func, args, kwargs in self.items]\n\u001b[0;32m    264\u001b[0m \u001b[1;33m\u001b[0m\u001b[0m\n",
      "\u001b[1;32m~\\anaconda3\\lib\\site-packages\\joblib\\parallel.py\u001b[0m in \u001b[0;36m<listcomp>\u001b[1;34m(.0)\u001b[0m\n\u001b[0;32m    260\u001b[0m         \u001b[1;31m# change the default number of processes to -1\u001b[0m\u001b[1;33m\u001b[0m\u001b[1;33m\u001b[0m\u001b[1;33m\u001b[0m\u001b[0m\n\u001b[0;32m    261\u001b[0m         \u001b[1;32mwith\u001b[0m \u001b[0mparallel_backend\u001b[0m\u001b[1;33m(\u001b[0m\u001b[0mself\u001b[0m\u001b[1;33m.\u001b[0m\u001b[0m_backend\u001b[0m\u001b[1;33m,\u001b[0m \u001b[0mn_jobs\u001b[0m\u001b[1;33m=\u001b[0m\u001b[0mself\u001b[0m\u001b[1;33m.\u001b[0m\u001b[0m_n_jobs\u001b[0m\u001b[1;33m)\u001b[0m\u001b[1;33m:\u001b[0m\u001b[1;33m\u001b[0m\u001b[1;33m\u001b[0m\u001b[0m\n\u001b[1;32m--> 262\u001b[1;33m             return [func(*args, **kwargs)\n\u001b[0m\u001b[0;32m    263\u001b[0m                     for func, args, kwargs in self.items]\n\u001b[0;32m    264\u001b[0m \u001b[1;33m\u001b[0m\u001b[0m\n",
      "\u001b[1;32m~\\anaconda3\\lib\\site-packages\\sklearn\\model_selection\\_validation.py\u001b[0m in \u001b[0;36m_fit_and_score\u001b[1;34m(estimator, X, y, scorer, train, test, verbose, parameters, fit_params, return_train_score, return_parameters, return_n_test_samples, return_times, return_estimator, error_score)\u001b[0m\n\u001b[0;32m    529\u001b[0m             \u001b[0mestimator\u001b[0m\u001b[1;33m.\u001b[0m\u001b[0mfit\u001b[0m\u001b[1;33m(\u001b[0m\u001b[0mX_train\u001b[0m\u001b[1;33m,\u001b[0m \u001b[1;33m**\u001b[0m\u001b[0mfit_params\u001b[0m\u001b[1;33m)\u001b[0m\u001b[1;33m\u001b[0m\u001b[1;33m\u001b[0m\u001b[0m\n\u001b[0;32m    530\u001b[0m         \u001b[1;32melse\u001b[0m\u001b[1;33m:\u001b[0m\u001b[1;33m\u001b[0m\u001b[1;33m\u001b[0m\u001b[0m\n\u001b[1;32m--> 531\u001b[1;33m             \u001b[0mestimator\u001b[0m\u001b[1;33m.\u001b[0m\u001b[0mfit\u001b[0m\u001b[1;33m(\u001b[0m\u001b[0mX_train\u001b[0m\u001b[1;33m,\u001b[0m \u001b[0my_train\u001b[0m\u001b[1;33m,\u001b[0m \u001b[1;33m**\u001b[0m\u001b[0mfit_params\u001b[0m\u001b[1;33m)\u001b[0m\u001b[1;33m\u001b[0m\u001b[1;33m\u001b[0m\u001b[0m\n\u001b[0m\u001b[0;32m    532\u001b[0m \u001b[1;33m\u001b[0m\u001b[0m\n\u001b[0;32m    533\u001b[0m     \u001b[1;32mexcept\u001b[0m \u001b[0mException\u001b[0m \u001b[1;32mas\u001b[0m \u001b[0me\u001b[0m\u001b[1;33m:\u001b[0m\u001b[1;33m\u001b[0m\u001b[1;33m\u001b[0m\u001b[0m\n",
      "\u001b[1;32m~\\anaconda3\\lib\\site-packages\\sklearn\\pipeline.py\u001b[0m in \u001b[0;36mfit\u001b[1;34m(self, X, y, **fit_params)\u001b[0m\n\u001b[0;32m    333\u001b[0m             \u001b[1;32mif\u001b[0m \u001b[0mself\u001b[0m\u001b[1;33m.\u001b[0m\u001b[0m_final_estimator\u001b[0m \u001b[1;33m!=\u001b[0m \u001b[1;34m'passthrough'\u001b[0m\u001b[1;33m:\u001b[0m\u001b[1;33m\u001b[0m\u001b[1;33m\u001b[0m\u001b[0m\n\u001b[0;32m    334\u001b[0m                 \u001b[0mfit_params_last_step\u001b[0m \u001b[1;33m=\u001b[0m \u001b[0mfit_params_steps\u001b[0m\u001b[1;33m[\u001b[0m\u001b[0mself\u001b[0m\u001b[1;33m.\u001b[0m\u001b[0msteps\u001b[0m\u001b[1;33m[\u001b[0m\u001b[1;33m-\u001b[0m\u001b[1;36m1\u001b[0m\u001b[1;33m]\u001b[0m\u001b[1;33m[\u001b[0m\u001b[1;36m0\u001b[0m\u001b[1;33m]\u001b[0m\u001b[1;33m]\u001b[0m\u001b[1;33m\u001b[0m\u001b[1;33m\u001b[0m\u001b[0m\n\u001b[1;32m--> 335\u001b[1;33m                 \u001b[0mself\u001b[0m\u001b[1;33m.\u001b[0m\u001b[0m_final_estimator\u001b[0m\u001b[1;33m.\u001b[0m\u001b[0mfit\u001b[0m\u001b[1;33m(\u001b[0m\u001b[0mXt\u001b[0m\u001b[1;33m,\u001b[0m \u001b[0my\u001b[0m\u001b[1;33m,\u001b[0m \u001b[1;33m**\u001b[0m\u001b[0mfit_params_last_step\u001b[0m\u001b[1;33m)\u001b[0m\u001b[1;33m\u001b[0m\u001b[1;33m\u001b[0m\u001b[0m\n\u001b[0m\u001b[0;32m    336\u001b[0m \u001b[1;33m\u001b[0m\u001b[0m\n\u001b[0;32m    337\u001b[0m         \u001b[1;32mreturn\u001b[0m \u001b[0mself\u001b[0m\u001b[1;33m\u001b[0m\u001b[1;33m\u001b[0m\u001b[0m\n",
      "\u001b[1;32m~\\anaconda3\\lib\\site-packages\\sklearn\\ensemble\\_gb.py\u001b[0m in \u001b[0;36mfit\u001b[1;34m(self, X, y, sample_weight, monitor)\u001b[0m\n\u001b[0;32m    496\u001b[0m \u001b[1;33m\u001b[0m\u001b[0m\n\u001b[0;32m    497\u001b[0m         \u001b[1;31m# fit the boosting stages\u001b[0m\u001b[1;33m\u001b[0m\u001b[1;33m\u001b[0m\u001b[1;33m\u001b[0m\u001b[0m\n\u001b[1;32m--> 498\u001b[1;33m         n_stages = self._fit_stages(\n\u001b[0m\u001b[0;32m    499\u001b[0m             \u001b[0mX\u001b[0m\u001b[1;33m,\u001b[0m \u001b[0my\u001b[0m\u001b[1;33m,\u001b[0m \u001b[0mraw_predictions\u001b[0m\u001b[1;33m,\u001b[0m \u001b[0msample_weight\u001b[0m\u001b[1;33m,\u001b[0m \u001b[0mself\u001b[0m\u001b[1;33m.\u001b[0m\u001b[0m_rng\u001b[0m\u001b[1;33m,\u001b[0m \u001b[0mX_val\u001b[0m\u001b[1;33m,\u001b[0m \u001b[0my_val\u001b[0m\u001b[1;33m,\u001b[0m\u001b[1;33m\u001b[0m\u001b[1;33m\u001b[0m\u001b[0m\n\u001b[0;32m    500\u001b[0m             sample_weight_val, begin_at_stage, monitor, X_idx_sorted)\n",
      "\u001b[1;32m~\\anaconda3\\lib\\site-packages\\sklearn\\ensemble\\_gb.py\u001b[0m in \u001b[0;36m_fit_stages\u001b[1;34m(self, X, y, raw_predictions, sample_weight, random_state, X_val, y_val, sample_weight_val, begin_at_stage, monitor, X_idx_sorted)\u001b[0m\n\u001b[0;32m    553\u001b[0m \u001b[1;33m\u001b[0m\u001b[0m\n\u001b[0;32m    554\u001b[0m             \u001b[1;31m# fit next stage of trees\u001b[0m\u001b[1;33m\u001b[0m\u001b[1;33m\u001b[0m\u001b[1;33m\u001b[0m\u001b[0m\n\u001b[1;32m--> 555\u001b[1;33m             raw_predictions = self._fit_stage(\n\u001b[0m\u001b[0;32m    556\u001b[0m                 \u001b[0mi\u001b[0m\u001b[1;33m,\u001b[0m \u001b[0mX\u001b[0m\u001b[1;33m,\u001b[0m \u001b[0my\u001b[0m\u001b[1;33m,\u001b[0m \u001b[0mraw_predictions\u001b[0m\u001b[1;33m,\u001b[0m \u001b[0msample_weight\u001b[0m\u001b[1;33m,\u001b[0m \u001b[0msample_mask\u001b[0m\u001b[1;33m,\u001b[0m\u001b[1;33m\u001b[0m\u001b[1;33m\u001b[0m\u001b[0m\n\u001b[0;32m    557\u001b[0m                 random_state, X_idx_sorted, X_csc, X_csr)\n",
      "\u001b[1;32m~\\anaconda3\\lib\\site-packages\\sklearn\\ensemble\\_gb.py\u001b[0m in \u001b[0;36m_fit_stage\u001b[1;34m(self, i, X, y, raw_predictions, sample_weight, sample_mask, random_state, X_idx_sorted, X_csc, X_csr)\u001b[0m\n\u001b[0;32m    209\u001b[0m \u001b[1;33m\u001b[0m\u001b[0m\n\u001b[0;32m    210\u001b[0m             \u001b[0mX\u001b[0m \u001b[1;33m=\u001b[0m \u001b[0mX_csr\u001b[0m \u001b[1;32mif\u001b[0m \u001b[0mX_csr\u001b[0m \u001b[1;32mis\u001b[0m \u001b[1;32mnot\u001b[0m \u001b[1;32mNone\u001b[0m \u001b[1;32melse\u001b[0m \u001b[0mX\u001b[0m\u001b[1;33m\u001b[0m\u001b[1;33m\u001b[0m\u001b[0m\n\u001b[1;32m--> 211\u001b[1;33m             tree.fit(X, residual, sample_weight=sample_weight,\n\u001b[0m\u001b[0;32m    212\u001b[0m                      check_input=False, X_idx_sorted=X_idx_sorted)\n\u001b[0;32m    213\u001b[0m \u001b[1;33m\u001b[0m\u001b[0m\n",
      "\u001b[1;32m~\\anaconda3\\lib\\site-packages\\sklearn\\tree\\_classes.py\u001b[0m in \u001b[0;36mfit\u001b[1;34m(self, X, y, sample_weight, check_input, X_idx_sorted)\u001b[0m\n\u001b[0;32m   1240\u001b[0m         \"\"\"\n\u001b[0;32m   1241\u001b[0m \u001b[1;33m\u001b[0m\u001b[0m\n\u001b[1;32m-> 1242\u001b[1;33m         super().fit(\n\u001b[0m\u001b[0;32m   1243\u001b[0m             \u001b[0mX\u001b[0m\u001b[1;33m,\u001b[0m \u001b[0my\u001b[0m\u001b[1;33m,\u001b[0m\u001b[1;33m\u001b[0m\u001b[1;33m\u001b[0m\u001b[0m\n\u001b[0;32m   1244\u001b[0m             \u001b[0msample_weight\u001b[0m\u001b[1;33m=\u001b[0m\u001b[0msample_weight\u001b[0m\u001b[1;33m,\u001b[0m\u001b[1;33m\u001b[0m\u001b[1;33m\u001b[0m\u001b[0m\n",
      "\u001b[1;32m~\\anaconda3\\lib\\site-packages\\sklearn\\tree\\_classes.py\u001b[0m in \u001b[0;36mfit\u001b[1;34m(self, X, y, sample_weight, check_input, X_idx_sorted)\u001b[0m\n\u001b[0;32m    373\u001b[0m                                            min_impurity_split)\n\u001b[0;32m    374\u001b[0m \u001b[1;33m\u001b[0m\u001b[0m\n\u001b[1;32m--> 375\u001b[1;33m         \u001b[0mbuilder\u001b[0m\u001b[1;33m.\u001b[0m\u001b[0mbuild\u001b[0m\u001b[1;33m(\u001b[0m\u001b[0mself\u001b[0m\u001b[1;33m.\u001b[0m\u001b[0mtree_\u001b[0m\u001b[1;33m,\u001b[0m \u001b[0mX\u001b[0m\u001b[1;33m,\u001b[0m \u001b[0my\u001b[0m\u001b[1;33m,\u001b[0m \u001b[0msample_weight\u001b[0m\u001b[1;33m,\u001b[0m \u001b[0mX_idx_sorted\u001b[0m\u001b[1;33m)\u001b[0m\u001b[1;33m\u001b[0m\u001b[1;33m\u001b[0m\u001b[0m\n\u001b[0m\u001b[0;32m    376\u001b[0m \u001b[1;33m\u001b[0m\u001b[0m\n\u001b[0;32m    377\u001b[0m         \u001b[1;32mif\u001b[0m \u001b[0mself\u001b[0m\u001b[1;33m.\u001b[0m\u001b[0mn_outputs_\u001b[0m \u001b[1;33m==\u001b[0m \u001b[1;36m1\u001b[0m \u001b[1;32mand\u001b[0m \u001b[0mis_classifier\u001b[0m\u001b[1;33m(\u001b[0m\u001b[0mself\u001b[0m\u001b[1;33m)\u001b[0m\u001b[1;33m:\u001b[0m\u001b[1;33m\u001b[0m\u001b[1;33m\u001b[0m\u001b[0m\n",
      "\u001b[1;31mKeyboardInterrupt\u001b[0m: "
     ]
    }
   ],
   "source": [
    "# Setup the pipeline\n",
    "steps = [('scaler', StandardScaler()),\n",
    "         ('xgb', GradientBoostingClassifier())]\n",
    "\n",
    "pipeline = Pipeline(steps)\n",
    "\n",
    "# Specify the hyperparameter\n",
    "parameters = {'xgb__n_estimators':[100,200,300],\n",
    "              'xgb__max_depth':range(2,12),\n",
    "              'xgb__criterion':['friedman_mse', 'mse', 'mae']}\n",
    "\n",
    "# Instantiate the GridSearchCV\n",
    "cv = GridSearchCV(pipeline,parameters,cv=3)\n",
    "\n",
    "# Fit to the training set\n",
    "cv.fit(x_train,y_train)\n",
    "\n",
    "# Predict the labels of the test set: y_pred\n",
    "y_pred = cv.predict(x_test)\n",
    "\n",
    "# Compute and print metrics\n",
    "print(\"Accuracy: {:.2f}%\".format(accuracy_score(y_test,y_pred)*100))\n",
    "print(\"Tuned Model Parameters: {}\".format(cv.best_params_))"
   ]
  },
  {
   "cell_type": "code",
   "execution_count": null,
   "id": "ff1fb303",
   "metadata": {},
   "outputs": [],
   "source": [
    "xgb = GradientBoostingClassifier(n_estimators=200,criterion=mse,max_depth)\n",
    "xgb.fit(x_train, y_train)\n",
    "y_xgb_pred = xgb.predict(x_test)\n",
    "accuracy_score(y_test,y_xgb_pred)"
   ]
  },
  {
   "cell_type": "markdown",
   "id": "c2ee2fbb",
   "metadata": {},
   "source": [
    "### Conclusion the best model is `RandomForestClassifier`"
   ]
  },
  {
   "cell_type": "code",
   "execution_count": null,
   "id": "523e0bac",
   "metadata": {},
   "outputs": [],
   "source": []
  }
 ],
 "metadata": {
  "kernelspec": {
   "display_name": "Python 3",
   "language": "python",
   "name": "python3"
  },
  "language_info": {
   "codemirror_mode": {
    "name": "ipython",
    "version": 3
   },
   "file_extension": ".py",
   "mimetype": "text/x-python",
   "name": "python",
   "nbconvert_exporter": "python",
   "pygments_lexer": "ipython3",
   "version": "3.8.8"
  }
 },
 "nbformat": 4,
 "nbformat_minor": 5
}
